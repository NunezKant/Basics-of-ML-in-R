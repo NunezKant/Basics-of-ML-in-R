{
 "cells": [
  {
   "cell_type": "code",
   "execution_count": 8,
   "metadata": {},
   "outputs": [
    {
     "name": "stderr",
     "output_type": "stream",
     "text": [
      "Warning message:\n",
      "\"package 'tidyverse' was built under R version 3.6.1\"Registered S3 methods overwritten by 'ggplot2':\n",
      "  method         from \n",
      "  [.quosures     rlang\n",
      "  c.quosures     rlang\n",
      "  print.quosures rlang\n",
      "-- Attaching packages --------------------------------------- tidyverse 1.2.1 --\n",
      "v ggplot2 3.1.1     v purrr   0.3.2\n",
      "v tibble  2.1.1     v dplyr   0.8.1\n",
      "v tidyr   0.8.3     v stringr 1.4.0\n",
      "v readr   1.3.1     v forcats 0.4.0\n",
      "-- Conflicts ------------------------------------------ tidyverse_conflicts() --\n",
      "x dplyr::filter() masks stats::filter()\n",
      "x dplyr::lag()    masks stats::lag()\n",
      "Warning message:\n",
      "\"package 'caret' was built under R version 3.6.1\"Loading required package: lattice\n",
      "Warning message:\n",
      "\"package 'lattice' was built under R version 3.6.1\"\n",
      "Attaching package: 'caret'\n",
      "\n",
      "The following object is masked from 'package:purrr':\n",
      "\n",
      "    lift\n",
      "\n",
      "Warning message:\n",
      "\"package 'recipes' was built under R version 3.6.1\"\n",
      "Attaching package: 'recipes'\n",
      "\n",
      "The following object is masked from 'package:stringr':\n",
      "\n",
      "    fixed\n",
      "\n",
      "The following object is masked from 'package:stats':\n",
      "\n",
      "    step\n",
      "\n",
      "Warning message:\n",
      "\"package 'visdat' was built under R version 3.6.1\"Warning message:\n",
      "\"package 'rsample' was built under R version 3.6.1\"Warning message:\n",
      "\"package 'ROCR' was built under R version 3.6.1\"Loading required package: gplots\n",
      "Warning message:\n",
      "\"package 'gplots' was built under R version 3.6.1\"\n",
      "Attaching package: 'gplots'\n",
      "\n",
      "The following object is masked from 'package:stats':\n",
      "\n",
      "    lowess\n",
      "\n"
     ]
    }
   ],
   "source": [
    "library(tidyverse)\n",
    "library(caret)         \n",
    "library(recipes)\n",
    "library(visdat) \n",
    "library(rsample)\n",
    "library(ROCR)\n",
    "#H <- read.csv(file.choose())"
   ]
  },
  {
   "cell_type": "code",
   "execution_count": null,
   "metadata": {},
   "outputs": [],
   "source": [
    "library(keras)\n",
    "#install_keras() "
   ]
  },
  {
   "cell_type": "markdown",
   "metadata": {},
   "source": [
    "<H1><center> Hands-On Machine Learning in R !</center></H1>\n",
    "<H3><center> Miguel Angel Núñez Ochoa</center></H3>\n",
    "\n",
    "![portada](http://bohemia.cu/wp-content/uploads/2018/03/inteligencia-artificial-5.jpg)\n",
    "\n",
    "---\n",
    "---\n",
    "---\n",
    "---\n",
    "---\n",
    "\n",
    "En este día revisaremos conceptos básicos de Machine Learning y algunos ejemplos de Deep Learning, dos áreas importantes de la Inteligencia Artificial hoy día.\n",
    "\n",
    "Explicaremos los conceptos sobre algunas tareas de aprendizaje automático:\n",
    "\n",
    "* Aprendizaje Supervizado\n",
    " * Regresión Lineal! :D\n",
    " * Regresión Logística\n",
    "* Aprendizaje No-Supervizado\n",
    " * Principal Component Analysis\n",
    " * K-means clustering\n",
    "* Deep Learning via Keras\n",
    "\n",
    "Sin embargo, antes de entrar a los modelos, revisaremos algunos temas importantes para el contexto:\n",
    "\n",
    "* [Predicción vs Estimación: ¿ Son lo mismo ?](#PvE)\n",
    "* [¿Qué es Machine Learning?](#QueML)"
   ]
  },
  {
   "cell_type": "markdown",
   "metadata": {},
   "source": [
    "<a id='PvE'></a>\n",
    "<H1><center>Predicción vs Estimación</center></H1>\n",
    "    \n",
    "Muchas veces utilizamos ambas palabras como intercambiables, sin embargo ¿Son lo mismo?  "
   ]
  },
  {
   "cell_type": "markdown",
   "metadata": {},
   "source": [
    "<a id='QueML'></a>\n",
    "<H1><center>¿Qué es Machine Learning?</center></H1>\n",
    "\n",
    "Es la ciencia (y el arte) de programar computadoras que son capaces de *aprender de los datos*.\n",
    "\n",
    "Una definición más formal:\n",
    ">>> El campo de estúdio que da a las computadoras la capacidad de aprender sin ser explicitamente programadas \n",
    "(Arthur Samuel, 1959)\n",
    "\n",
    "### ¿Cuándo utilizar ML?\n",
    "\n",
    "* Problemas que requieren mucha *tuneo* a mano, o largas listas de reglas para poder resolver la tarea (ej. Image )\n",
    "* Problemas complejos dónde ha ciencia cierta no sabemos si existe una solución buena general (ej. medicine)\n",
    "* Cuándo el contexto del problema cambia rápidamente (ej. SPAM detector) \n",
    "* Cuándo tenemos una colección muy grande de datos y queremos entender que relaciones se encuentran entre ellos (ej. BigData, genetics)\n",
    "\n",
    "### Terminología de ML\n",
    "\n",
    "* **Atributos:** son todas las variables de entrada, también conocidad como variables explicatorias o predictores ($x_1,x_2,...,x_n$)\n",
    "\n",
    "* **Etiqueta:** es la variable que queremos predecir, nuestra variable dependiente u objetivo($Y$).\n",
    " * Aprendizaje supervisado: $(x,y)$  \n",
    " * No supervisado: $(x,?)$\n",
    " \n",
    "* **Modelo:** define la relación entre los atributos y la etiqueta\n",
    " * **Entrenamiento:** Fase en la que se genera/aprende el modelo\n",
    " * **Predicción** generenar un valor **no observado** de $Y$ a partir de valores observados de $x_1,x_2,....,x_n$\n",
    "\n",
    "* **Regresión:** predice valores continuos, responden a preguntas como las siguientes:\n",
    " * ¿Cuál es el valor de una casa en California?\n",
    " * ¿Cuál es la probabilidad de que un usuario haga clic en este anuncio?\n",
    " \n",
    "* **Clasificación:** predice valores discretos,responden a preguntas como las siguientes:\n",
    " * ¿Un mensaje de correo electrónico determinado es spam o no es spam?\n",
    " * ¿Esta imagen es de un perro, un gato o un hámster?\n",
    "\n",
    "\n",
    "# BIAS - VARIANCE TRADE-OFF\n",
    "\n",
    "![bias-var](https://miro.medium.com/max/1400/1*9hPX9pAO3jqLrzt0IE3JzA.png)\n",
    "\n",
    "\n",
    "# Partición del set de datos\n",
    "\n",
    "\n",
    "![partition](https://bradleyboehmke.github.io/HOML/images/data_split.png)\n",
    "\n",
    "# Métodos de re-muestreo\n",
    "\n",
    "Nos permiten estimar repetidamente un modelo de interés a partes de los datos de estrenamiento y probar dichos modelos, en varios conjuntos de validación. \n",
    "\n",
    "* validación cruzada k-fold \n",
    "* bootstrapping\n",
    "\n",
    "Estos métodos son necesarios, por qué nos ayudan a estimar el *performance* de nuestro modelo sin sesgos\n",
    "\n",
    "![kfold](https://bradleyboehmke.github.io/HOML/images/cv.png)\n",
    "\n",
    "\n",
    "# Proceso junto:\n",
    "\n",
    "``set.seed(123)\n",
    "  index <- createDataPartition(H$SalePrice, p = 0.7, list = FALSE)\n",
    "  H_train <- H[index, ]\n",
    "  H_test <- H[-index, ]``\n",
    "\n",
    " `` cv <- trainControl(\n",
    "      method = \"repeatedcv\", \n",
    "      number = 10, \n",
    "      repeats = 5\n",
    "      )``\n",
    "\n",
    " `` hyper_grid <- expand.grid(k = seq(2, 25, by = 1)``\n",
    "\n",
    "\n",
    "  ``knn_fit <- train(\n",
    "      SalePrice ~ ., \n",
    "      data = H_train, \n",
    "      method = \"knn\", \n",
    "      trControl = cv, \n",
    "      tuneGrid = hyper_grid,\n",
    "      metric = \"RMSE\"\n",
    "    )``\n",
    "  \n",
    "  ``ggplot(knn_fit)``\n",
    "  \n",
    "![error_knn](https://bradleyboehmke.github.io/HOML/02-modeling-process_files/figure-html/knn-tune-1.png)\n",
    "\n",
    "  "
   ]
  },
  {
   "cell_type": "markdown",
   "metadata": {},
   "source": [
    "### Workflow clásico de ML\n",
    "\n",
    "* Obtención de datos\n",
    "* Análisis exploratorio de los datos (EDA)\n",
    "* División de datos en entrenamiento y evaluación\n",
    "* Ingeniería de carácteristicas (Feature and Target Engineering)\n",
    "* Etapa de entrenamiento\n",
    "* Evaluación del modelo\n",
    "* Tuning de hiperparámetros \n",
    " * iterable hasta que la evaluación es satisfactoria\n",
    "\n",
    "\n",
    "\n",
    "# Obtención de los datos"
   ]
  },
  {
   "cell_type": "code",
   "execution_count": 153,
   "metadata": {},
   "outputs": [],
   "source": [
    "H <- read.csv(file.choose())\n",
    "#Housing data"
   ]
  },
  {
   "cell_type": "markdown",
   "metadata": {},
   "source": [
    "Una de las tareas más importantes es buscar, el contexto de los datos que analizaremos, en este link podrán accesar a una breve descripción de los datos:\n",
    "\n",
    "https://www.kaggle.com/c/house-prices-advanced-regression-techniques/data\n",
    "\n",
    "**TODO**: En equipos de 3, discutan por 5 minutos sobre que describe el data set, cual sería la variable dependiente, y relacionada a ella, que variables creen que podrían ayudar a predecirla (esten o no en el dataset)"
   ]
  },
  {
   "cell_type": "code",
   "execution_count": 17,
   "metadata": {},
   "outputs": [
    {
     "data": {
      "text/html": [
       "<table>\n",
       "<thead><tr><th scope=col>Order</th><th scope=col>PID</th><th scope=col>MS.SubClass</th><th scope=col>MS.Zoning</th><th scope=col>Lot.Frontage</th><th scope=col>Lot.Area</th><th scope=col>Street</th><th scope=col>Alley</th><th scope=col>Lot.Shape</th><th scope=col>Land.Contour</th><th scope=col>...</th><th scope=col>Pool.Area</th><th scope=col>Pool.QC</th><th scope=col>Fence</th><th scope=col>Misc.Feature</th><th scope=col>Misc.Val</th><th scope=col>Mo.Sold</th><th scope=col>Yr.Sold</th><th scope=col>Sale.Type</th><th scope=col>Sale.Condition</th><th scope=col>SalePrice</th></tr></thead>\n",
       "<tbody>\n",
       "\t<tr><td>1        </td><td>526301100</td><td>20       </td><td>RL       </td><td>141      </td><td>31770    </td><td>Pave     </td><td>NA       </td><td>IR1      </td><td>Lvl      </td><td>...      </td><td>0        </td><td>NA       </td><td>NA       </td><td>NA       </td><td>    0    </td><td>5        </td><td>2010     </td><td>WD       </td><td>Normal   </td><td>215000   </td></tr>\n",
       "\t<tr><td>2        </td><td>526350040</td><td>20       </td><td>RH       </td><td> 80      </td><td>11622    </td><td>Pave     </td><td>NA       </td><td>Reg      </td><td>Lvl      </td><td>...      </td><td>0        </td><td>NA       </td><td>MnPrv    </td><td>NA       </td><td>    0    </td><td>6        </td><td>2010     </td><td>WD       </td><td>Normal   </td><td>105000   </td></tr>\n",
       "\t<tr><td>3        </td><td>526351010</td><td>20       </td><td>RL       </td><td> 81      </td><td>14267    </td><td>Pave     </td><td>NA       </td><td>IR1      </td><td>Lvl      </td><td>...      </td><td>0        </td><td>NA       </td><td>NA       </td><td>Gar2     </td><td>12500    </td><td>6        </td><td>2010     </td><td>WD       </td><td>Normal   </td><td>172000   </td></tr>\n",
       "\t<tr><td>4        </td><td>526353030</td><td>20       </td><td>RL       </td><td> 93      </td><td>11160    </td><td>Pave     </td><td>NA       </td><td>Reg      </td><td>Lvl      </td><td>...      </td><td>0        </td><td>NA       </td><td>NA       </td><td>NA       </td><td>    0    </td><td>4        </td><td>2010     </td><td>WD       </td><td>Normal   </td><td>244000   </td></tr>\n",
       "\t<tr><td>5        </td><td>527105010</td><td>60       </td><td>RL       </td><td> 74      </td><td>13830    </td><td>Pave     </td><td>NA       </td><td>IR1      </td><td>Lvl      </td><td>...      </td><td>0        </td><td>NA       </td><td>MnPrv    </td><td>NA       </td><td>    0    </td><td>3        </td><td>2010     </td><td>WD       </td><td>Normal   </td><td>189900   </td></tr>\n",
       "\t<tr><td>6        </td><td>527105030</td><td>60       </td><td>RL       </td><td> 78      </td><td> 9978    </td><td>Pave     </td><td>NA       </td><td>IR1      </td><td>Lvl      </td><td>...      </td><td>0        </td><td>NA       </td><td>NA       </td><td>NA       </td><td>    0    </td><td>6        </td><td>2010     </td><td>WD       </td><td>Normal   </td><td>195500   </td></tr>\n",
       "</tbody>\n",
       "</table>\n"
      ],
      "text/latex": [
       "\\begin{tabular}{r|llllllllllllllllllllllllllllllllllllllllllllllllllllllllllllllllllllllllllllllllll}\n",
       " Order & PID & MS.SubClass & MS.Zoning & Lot.Frontage & Lot.Area & Street & Alley & Lot.Shape & Land.Contour & ... & Pool.Area & Pool.QC & Fence & Misc.Feature & Misc.Val & Mo.Sold & Yr.Sold & Sale.Type & Sale.Condition & SalePrice\\\\\n",
       "\\hline\n",
       "\t 1         & 526301100 & 20        & RL        & 141       & 31770     & Pave      & NA        & IR1       & Lvl       & ...       & 0         & NA        & NA        & NA        &     0     & 5         & 2010      & WD        & Normal    & 215000   \\\\\n",
       "\t 2         & 526350040 & 20        & RH        &  80       & 11622     & Pave      & NA        & Reg       & Lvl       & ...       & 0         & NA        & MnPrv     & NA        &     0     & 6         & 2010      & WD        & Normal    & 105000   \\\\\n",
       "\t 3         & 526351010 & 20        & RL        &  81       & 14267     & Pave      & NA        & IR1       & Lvl       & ...       & 0         & NA        & NA        & Gar2      & 12500     & 6         & 2010      & WD        & Normal    & 172000   \\\\\n",
       "\t 4         & 526353030 & 20        & RL        &  93       & 11160     & Pave      & NA        & Reg       & Lvl       & ...       & 0         & NA        & NA        & NA        &     0     & 4         & 2010      & WD        & Normal    & 244000   \\\\\n",
       "\t 5         & 527105010 & 60        & RL        &  74       & 13830     & Pave      & NA        & IR1       & Lvl       & ...       & 0         & NA        & MnPrv     & NA        &     0     & 3         & 2010      & WD        & Normal    & 189900   \\\\\n",
       "\t 6         & 527105030 & 60        & RL        &  78       &  9978     & Pave      & NA        & IR1       & Lvl       & ...       & 0         & NA        & NA        & NA        &     0     & 6         & 2010      & WD        & Normal    & 195500   \\\\\n",
       "\\end{tabular}\n"
      ],
      "text/markdown": [
       "\n",
       "Order | PID | MS.SubClass | MS.Zoning | Lot.Frontage | Lot.Area | Street | Alley | Lot.Shape | Land.Contour | ... | Pool.Area | Pool.QC | Fence | Misc.Feature | Misc.Val | Mo.Sold | Yr.Sold | Sale.Type | Sale.Condition | SalePrice | \n",
       "|---|---|---|---|---|---|\n",
       "| 1         | 526301100 | 20        | RL        | 141       | 31770     | Pave      | NA        | IR1       | Lvl       | ...       | 0         | NA        | NA        | NA        |     0     | 5         | 2010      | WD        | Normal    | 215000    | \n",
       "| 2         | 526350040 | 20        | RH        |  80       | 11622     | Pave      | NA        | Reg       | Lvl       | ...       | 0         | NA        | MnPrv     | NA        |     0     | 6         | 2010      | WD        | Normal    | 105000    | \n",
       "| 3         | 526351010 | 20        | RL        |  81       | 14267     | Pave      | NA        | IR1       | Lvl       | ...       | 0         | NA        | NA        | Gar2      | 12500     | 6         | 2010      | WD        | Normal    | 172000    | \n",
       "| 4         | 526353030 | 20        | RL        |  93       | 11160     | Pave      | NA        | Reg       | Lvl       | ...       | 0         | NA        | NA        | NA        |     0     | 4         | 2010      | WD        | Normal    | 244000    | \n",
       "| 5         | 527105010 | 60        | RL        |  74       | 13830     | Pave      | NA        | IR1       | Lvl       | ...       | 0         | NA        | MnPrv     | NA        |     0     | 3         | 2010      | WD        | Normal    | 189900    | \n",
       "| 6         | 527105030 | 60        | RL        |  78       |  9978     | Pave      | NA        | IR1       | Lvl       | ...       | 0         | NA        | NA        | NA        |     0     | 6         | 2010      | WD        | Normal    | 195500    | \n",
       "\n",
       "\n"
      ],
      "text/plain": [
       "  Order PID       MS.SubClass MS.Zoning Lot.Frontage Lot.Area Street Alley\n",
       "1 1     526301100 20          RL        141          31770    Pave   NA   \n",
       "2 2     526350040 20          RH         80          11622    Pave   NA   \n",
       "3 3     526351010 20          RL         81          14267    Pave   NA   \n",
       "4 4     526353030 20          RL         93          11160    Pave   NA   \n",
       "5 5     527105010 60          RL         74          13830    Pave   NA   \n",
       "6 6     527105030 60          RL         78           9978    Pave   NA   \n",
       "  Lot.Shape Land.Contour ... Pool.Area Pool.QC Fence Misc.Feature Misc.Val\n",
       "1 IR1       Lvl          ... 0         NA      NA    NA               0   \n",
       "2 Reg       Lvl          ... 0         NA      MnPrv NA               0   \n",
       "3 IR1       Lvl          ... 0         NA      NA    Gar2         12500   \n",
       "4 Reg       Lvl          ... 0         NA      NA    NA               0   \n",
       "5 IR1       Lvl          ... 0         NA      MnPrv NA               0   \n",
       "6 IR1       Lvl          ... 0         NA      NA    NA               0   \n",
       "  Mo.Sold Yr.Sold Sale.Type Sale.Condition SalePrice\n",
       "1 5       2010    WD        Normal         215000   \n",
       "2 6       2010    WD        Normal         105000   \n",
       "3 6       2010    WD        Normal         172000   \n",
       "4 4       2010    WD        Normal         244000   \n",
       "5 3       2010    WD        Normal         189900   \n",
       "6 6       2010    WD        Normal         195500   "
      ]
     },
     "metadata": {},
     "output_type": "display_data"
    }
   ],
   "source": [
    "# Revisamos las primeras entradas\n",
    "head(H)"
   ]
  },
  {
   "cell_type": "markdown",
   "metadata": {},
   "source": [
    "# TIDY DATA\n",
    "\n",
    "Un paradigma fundamental de R, son los datos tidy para saber si los datos siguen dicho arreglo, respondemos a las siguientes preguntas:\n",
    "\n",
    "\n",
    "* ¿Cada columna es una variable?\n",
    "* ¿Cada fila es una observación?\n",
    "* ¿Cada celda es una medición?\n",
    "\n",
    "Si somos capaces de responder que sí a todo, entonces, los datos son *tidy*"
   ]
  },
  {
   "cell_type": "code",
   "execution_count": 18,
   "metadata": {},
   "outputs": [
    {
     "data": {
      "text/html": [
       "<ol class=list-inline>\n",
       "\t<li>2930</li>\n",
       "\t<li>82</li>\n",
       "</ol>\n"
      ],
      "text/latex": [
       "\\begin{enumerate*}\n",
       "\\item 2930\n",
       "\\item 82\n",
       "\\end{enumerate*}\n"
      ],
      "text/markdown": [
       "1. 2930\n",
       "2. 82\n",
       "\n",
       "\n"
      ],
      "text/plain": [
       "[1] 2930   82"
      ]
     },
     "metadata": {},
     "output_type": "display_data"
    }
   ],
   "source": [
    "dim(H)"
   ]
  },
  {
   "cell_type": "code",
   "execution_count": 19,
   "metadata": {},
   "outputs": [
    {
     "data": {
      "text/plain": [
       "     Order             PID             MS.SubClass       MS.Zoning   \n",
       " Min.   :   1.0   Min.   :5.263e+08   Min.   : 20.00   A (agr):   2  \n",
       " 1st Qu.: 733.2   1st Qu.:5.285e+08   1st Qu.: 20.00   C (all):  25  \n",
       " Median :1465.5   Median :5.355e+08   Median : 50.00   FV     : 139  \n",
       " Mean   :1465.5   Mean   :7.145e+08   Mean   : 57.39   I (all):   2  \n",
       " 3rd Qu.:2197.8   3rd Qu.:9.072e+08   3rd Qu.: 70.00   RH     :  27  \n",
       " Max.   :2930.0   Max.   :1.007e+09   Max.   :190.00   RL     :2273  \n",
       "                                                       RM     : 462  \n",
       "  Lot.Frontage       Lot.Area       Street      Alley      Lot.Shape \n",
       " Min.   : 21.00   Min.   :  1300   Grvl:  12   Grvl: 120   IR1: 979  \n",
       " 1st Qu.: 58.00   1st Qu.:  7440   Pave:2918   Pave:  78   IR2:  76  \n",
       " Median : 68.00   Median :  9436               NA's:2732   IR3:  16  \n",
       " Mean   : 69.22   Mean   : 10148                           Reg:1859  \n",
       " 3rd Qu.: 80.00   3rd Qu.: 11555                                     \n",
       " Max.   :313.00   Max.   :215245                                     \n",
       " NA's   :490                                                         \n",
       " Land.Contour  Utilities      Lot.Config   Land.Slope  Neighborhood \n",
       " Bnk: 117     AllPub:2927   Corner : 511   Gtl:2789   NAmes  : 443  \n",
       " HLS: 120     NoSeWa:   1   CulDSac: 180   Mod: 125   CollgCr: 267  \n",
       " Low:  60     NoSewr:   2   FR2    :  85   Sev:  16   OldTown: 239  \n",
       " Lvl:2633                   FR3    :  14              Edwards: 194  \n",
       "                            Inside :2140              Somerst: 182  \n",
       "                                                      NridgHt: 166  \n",
       "                                                      (Other):1439  \n",
       "  Condition.1    Condition.2    Bldg.Type     House.Style    Overall.Qual   \n",
       " Norm   :2522   Norm   :2900   1Fam  :2425   1Story :1481   Min.   : 1.000  \n",
       " Feedr  : 164   Feedr  :  13   2fmCon:  62   2Story : 873   1st Qu.: 5.000  \n",
       " Artery :  92   Artery :   5   Duplex: 109   1.5Fin : 314   Median : 6.000  \n",
       " RRAn   :  50   PosA   :   4   Twnhs : 101   SLvl   : 128   Mean   : 6.095  \n",
       " PosN   :  39   PosN   :   4   TwnhsE: 233   SFoyer :  83   3rd Qu.: 7.000  \n",
       " RRAe   :  28   RRNn   :   2                 2.5Unf :  24   Max.   :10.000  \n",
       " (Other):  35   (Other):   2                 (Other):  27                   \n",
       "  Overall.Cond     Year.Built   Year.Remod.Add   Roof.Style     Roof.Matl   \n",
       " Min.   :1.000   Min.   :1872   Min.   :1950   Flat   :  20   CompShg:2887  \n",
       " 1st Qu.:5.000   1st Qu.:1954   1st Qu.:1965   Gable  :2321   Tar&Grv:  23  \n",
       " Median :5.000   Median :1973   Median :1993   Gambrel:  22   WdShake:   9  \n",
       " Mean   :5.563   Mean   :1971   Mean   :1984   Hip    : 551   WdShngl:   7  \n",
       " 3rd Qu.:6.000   3rd Qu.:2001   3rd Qu.:2004   Mansard:  11   ClyTile:   1  \n",
       " Max.   :9.000   Max.   :2010   Max.   :2010   Shed   :   5   Membran:   1  \n",
       "                                                              (Other):   2  \n",
       "  Exterior.1st   Exterior.2nd   Mas.Vnr.Type   Mas.Vnr.Area    Exter.Qual\n",
       " VinylSd:1026   VinylSd:1015          :  23   Min.   :   0.0   Ex: 107   \n",
       " MetalSd: 450   MetalSd: 447   BrkCmn :  25   1st Qu.:   0.0   Fa:  35   \n",
       " HdBoard: 442   HdBoard: 406   BrkFace: 880   Median :   0.0   Gd: 989   \n",
       " Wd Sdng: 420   Wd Sdng: 397   CBlock :   1   Mean   : 101.9   TA:1799   \n",
       " Plywood: 221   Plywood: 274   None   :1752   3rd Qu.: 164.0             \n",
       " CemntBd: 126   CmentBd: 126   Stone  : 249   Max.   :1600.0             \n",
       " (Other): 245   (Other): 265                  NA's   :23                 \n",
       " Exter.Cond  Foundation   Bsmt.Qual   Bsmt.Cond   Bsmt.Exposure BsmtFin.Type.1\n",
       " Ex:  12    BrkTil: 311       :   1       :   1       :   4     GLQ    :859   \n",
       " Fa:  67    CBlock:1244   Ex  : 258   Ex  :   3   Av  : 418     Unf    :851   \n",
       " Gd: 299    PConc :1310   Fa  :  88   Fa  : 104   Gd  : 284     ALQ    :429   \n",
       " Po:   3    Slab  :  49   Gd  :1219   Gd  : 122   Mn  : 239     Rec    :288   \n",
       " TA:2549    Stone :  11   Po  :   2   Po  :   5   No  :1906     BLQ    :269   \n",
       "            Wood  :   5   TA  :1283   TA  :2616   NA's:  79     (Other):155   \n",
       "                          NA's:  79   NA's:  79                 NA's   : 79   \n",
       "  BsmtFin.SF.1    BsmtFin.Type.2  BsmtFin.SF.2      Bsmt.Unf.SF    \n",
       " Min.   :   0.0   Unf    :2499   Min.   :   0.00   Min.   :   0.0  \n",
       " 1st Qu.:   0.0   Rec    : 106   1st Qu.:   0.00   1st Qu.: 219.0  \n",
       " Median : 370.0   LwQ    :  89   Median :   0.00   Median : 466.0  \n",
       " Mean   : 442.6   BLQ    :  68   Mean   :  49.72   Mean   : 559.3  \n",
       " 3rd Qu.: 734.0   ALQ    :  53   3rd Qu.:   0.00   3rd Qu.: 802.0  \n",
       " Max.   :5644.0   (Other):  36   Max.   :1526.00   Max.   :2336.0  \n",
       " NA's   :1        NA's   :  79   NA's   :1         NA's   :1       \n",
       " Total.Bsmt.SF   Heating     Heating.QC Central.Air Electrical  \n",
       " Min.   :   0   Floor:   1   Ex:1495    N: 196           :   1  \n",
       " 1st Qu.: 793   GasA :2885   Fa:  92    Y:2734      FuseA: 188  \n",
       " Median : 990   GasW :  27   Gd: 476                FuseF:  50  \n",
       " Mean   :1052   Grav :   9   Po:   3                FuseP:   8  \n",
       " 3rd Qu.:1302   OthW :   2   TA: 864                Mix  :   1  \n",
       " Max.   :6110   Wall :   6                          SBrkr:2682  \n",
       " NA's   :1                                                      \n",
       "  X1st.Flr.SF      X2nd.Flr.SF     Low.Qual.Fin.SF     Gr.Liv.Area  \n",
       " Min.   : 334.0   Min.   :   0.0   Min.   :   0.000   Min.   : 334  \n",
       " 1st Qu.: 876.2   1st Qu.:   0.0   1st Qu.:   0.000   1st Qu.:1126  \n",
       " Median :1084.0   Median :   0.0   Median :   0.000   Median :1442  \n",
       " Mean   :1159.6   Mean   : 335.5   Mean   :   4.677   Mean   :1500  \n",
       " 3rd Qu.:1384.0   3rd Qu.: 703.8   3rd Qu.:   0.000   3rd Qu.:1743  \n",
       " Max.   :5095.0   Max.   :2065.0   Max.   :1064.000   Max.   :5642  \n",
       "                                                                    \n",
       " Bsmt.Full.Bath   Bsmt.Half.Bath      Full.Bath       Half.Bath     \n",
       " Min.   :0.0000   Min.   :0.00000   Min.   :0.000   Min.   :0.0000  \n",
       " 1st Qu.:0.0000   1st Qu.:0.00000   1st Qu.:1.000   1st Qu.:0.0000  \n",
       " Median :0.0000   Median :0.00000   Median :2.000   Median :0.0000  \n",
       " Mean   :0.4314   Mean   :0.06113   Mean   :1.567   Mean   :0.3795  \n",
       " 3rd Qu.:1.0000   3rd Qu.:0.00000   3rd Qu.:2.000   3rd Qu.:1.0000  \n",
       " Max.   :3.0000   Max.   :2.00000   Max.   :4.000   Max.   :2.0000  \n",
       " NA's   :2        NA's   :2                                         \n",
       " Bedroom.AbvGr   Kitchen.AbvGr   Kitchen.Qual TotRms.AbvGrd      Functional  \n",
       " Min.   :0.000   Min.   :0.000   Ex: 205      Min.   : 2.000   Typ    :2728  \n",
       " 1st Qu.:2.000   1st Qu.:1.000   Fa:  70      1st Qu.: 5.000   Min2   :  70  \n",
       " Median :3.000   Median :1.000   Gd:1160      Median : 6.000   Min1   :  65  \n",
       " Mean   :2.854   Mean   :1.044   Po:   1      Mean   : 6.443   Mod    :  35  \n",
       " 3rd Qu.:3.000   3rd Qu.:1.000   TA:1494      3rd Qu.: 7.000   Maj1   :  19  \n",
       " Max.   :8.000   Max.   :3.000                Max.   :15.000   Maj2   :   9  \n",
       "                                                               (Other):   4  \n",
       "   Fireplaces     Fireplace.Qu  Garage.Type   Garage.Yr.Blt  Garage.Finish\n",
       " Min.   :0.0000   Ex  :  43    2Types :  23   Min.   :1895       :   2    \n",
       " 1st Qu.:0.0000   Fa  :  75    Attchd :1731   1st Qu.:1960   Fin : 728    \n",
       " Median :1.0000   Gd  : 744    Basment:  36   Median :1979   RFn : 812    \n",
       " Mean   :0.5993   Po  :  46    BuiltIn: 186   Mean   :1978   Unf :1231    \n",
       " 3rd Qu.:1.0000   TA  : 600    CarPort:  15   3rd Qu.:2002   NA's: 157    \n",
       " Max.   :4.0000   NA's:1422    Detchd : 782   Max.   :2207                \n",
       "                               NA's   : 157   NA's   :159                 \n",
       "  Garage.Cars     Garage.Area     Garage.Qual Garage.Cond Paved.Drive\n",
       " Min.   :0.000   Min.   :   0.0       :   1       :   1   N: 216     \n",
       " 1st Qu.:1.000   1st Qu.: 320.0   Ex  :   3   Ex  :   3   P:  62     \n",
       " Median :2.000   Median : 480.0   Fa  : 124   Fa  :  74   Y:2652     \n",
       " Mean   :1.767   Mean   : 472.8   Gd  :  24   Gd  :  15              \n",
       " 3rd Qu.:2.000   3rd Qu.: 576.0   Po  :   5   Po  :  14              \n",
       " Max.   :5.000   Max.   :1488.0   TA  :2615   TA  :2665              \n",
       " NA's   :1       NA's   :1        NA's: 158   NA's: 158              \n",
       "  Wood.Deck.SF     Open.Porch.SF    Enclosed.Porch     X3Ssn.Porch     \n",
       " Min.   :   0.00   Min.   :  0.00   Min.   :   0.00   Min.   :  0.000  \n",
       " 1st Qu.:   0.00   1st Qu.:  0.00   1st Qu.:   0.00   1st Qu.:  0.000  \n",
       " Median :   0.00   Median : 27.00   Median :   0.00   Median :  0.000  \n",
       " Mean   :  93.75   Mean   : 47.53   Mean   :  23.01   Mean   :  2.592  \n",
       " 3rd Qu.: 168.00   3rd Qu.: 70.00   3rd Qu.:   0.00   3rd Qu.:  0.000  \n",
       " Max.   :1424.00   Max.   :742.00   Max.   :1012.00   Max.   :508.000  \n",
       "                                                                       \n",
       "  Screen.Porch   Pool.Area       Pool.QC       Fence      Misc.Feature\n",
       " Min.   :  0   Min.   :  0.000   Ex  :   4   GdPrv: 118   Elev:   1   \n",
       " 1st Qu.:  0   1st Qu.:  0.000   Fa  :   2   GdWo : 112   Gar2:   5   \n",
       " Median :  0   Median :  0.000   Gd  :   4   MnPrv: 330   Othr:   4   \n",
       " Mean   : 16   Mean   :  2.243   TA  :   3   MnWw :  12   Shed:  95   \n",
       " 3rd Qu.:  0   3rd Qu.:  0.000   NA's:2917   NA's :2358   TenC:   1   \n",
       " Max.   :576   Max.   :800.000                            NA's:2824   \n",
       "                                                                      \n",
       "    Misc.Val           Mo.Sold          Yr.Sold       Sale.Type   \n",
       " Min.   :    0.00   Min.   : 1.000   Min.   :2006   WD     :2536  \n",
       " 1st Qu.:    0.00   1st Qu.: 4.000   1st Qu.:2007   New    : 239  \n",
       " Median :    0.00   Median : 6.000   Median :2008   COD    :  87  \n",
       " Mean   :   50.63   Mean   : 6.216   Mean   :2008   ConLD  :  26  \n",
       " 3rd Qu.:    0.00   3rd Qu.: 8.000   3rd Qu.:2009   CWD    :  12  \n",
       " Max.   :17000.00   Max.   :12.000   Max.   :2010   ConLI  :   9  \n",
       "                                                    (Other):  21  \n",
       " Sale.Condition   SalePrice     \n",
       " Abnorml: 190   Min.   : 12789  \n",
       " AdjLand:  12   1st Qu.:129500  \n",
       " Alloca :  24   Median :160000  \n",
       " Family :  46   Mean   :180796  \n",
       " Normal :2413   3rd Qu.:213500  \n",
       " Partial: 245   Max.   :755000  \n",
       "                                "
      ]
     },
     "metadata": {},
     "output_type": "display_data"
    }
   ],
   "source": [
    "summary(H)"
   ]
  },
  {
   "cell_type": "markdown",
   "metadata": {},
   "source": [
    "Partimos nuestros datos, en entrenamiento y evaluación!"
   ]
  },
  {
   "cell_type": "code",
   "execution_count": 27,
   "metadata": {},
   "outputs": [],
   "source": [
    "set.seed(123)\n",
    "index <- createDataPartition(H$SalePrice, p = 0.7, list = FALSE)\n",
    "H_train <- H[index, ]\n",
    "H_test <- H[-index, ]"
   ]
  },
  {
   "cell_type": "markdown",
   "metadata": {},
   "source": [
    "# TARGET ENGINEERING\n",
    "\n",
    "Haremos un análisis explroatorio de los datos, primero, observaremos como se distribuye nuestra variable de interés, en este caso: **SalePrice**"
   ]
  },
  {
   "cell_type": "code",
   "execution_count": 23,
   "metadata": {},
   "outputs": [
    {
     "name": "stderr",
     "output_type": "stream",
     "text": [
      "`stat_bin()` using `bins = 30`. Pick better value with `binwidth`.\n"
     ]
    },
    {
     "data": {},
     "metadata": {},
     "output_type": "display_data"
    },
    {
     "data": {
      "image/png": "[encoded data removed]",
      "text/plain": [
       "plot without title"
      ]
     },
     "metadata": {},
     "output_type": "display_data"
    }
   ],
   "source": [
    "options(repr.plot.width=8, repr.plot.height=4)\n",
    "ggplot(H,aes(SalePrice))+ geom_histogram()"
   ]
  },
  {
   "cell_type": "markdown",
   "metadata": {},
   "source": [
    "¿ Es una distribución normal ?\n",
    "\n",
    "**TODO:** investigar 5 minutos sobre los términos -> \"skewness and kurtosis\"\n",
    "\n",
    "¿Qué son y cómo se interpretan?\n",
    "\n",
    "----\n",
    "----\n",
    "----\n",
    "\n",
    "Muchos de los modelos, usan como supuesto que las variables tienen una distribución normal (como vimos en los modelos lineales) por lo que siempre es favorable que las variables a utilizar sigan dicha distribución.\n",
    "\n",
    "Existen muchas formas de hacer transformaciones en los datos para que sigan distribuciones especificas, en el caso de una distribución como la que sigue nuestra variable dependiente, simplemente podríamos aplicar un logaritmo:\n",
    "\n",
    "`transformed_response <- log(H$SalePrice)`\n",
    "\n",
    "Sin embargo, lo haremos de una forma más profesional, utilizaremos 'recetas', con la librería **recipes** , debemos pensar en el preprocesamiento como la creación de un plan para volver a aplicarlo estratégicamente, recipes no aplicará la transformación de facto, si no que iremos guardando los pasos a aplicar."
   ]
  },
  {
   "cell_type": "code",
   "execution_count": 28,
   "metadata": {},
   "outputs": [
    {
     "data": {
      "text/plain": [
       "Data Recipe\n",
       "\n",
       "Inputs:\n",
       "\n",
       "      role #variables\n",
       "   outcome          1\n",
       " predictor         81\n",
       "\n",
       "Steps:\n",
       "\n",
       "Log transformation on all_outcomes()"
      ]
     },
     "metadata": {},
     "output_type": "display_data"
    }
   ],
   "source": [
    "H_recipe <- recipe(SalePrice ~ ., data = H_train) %>%\n",
    "  step_log(all_outcomes())\n",
    "H_recipe"
   ]
  },
  {
   "cell_type": "markdown",
   "metadata": {},
   "source": [
    "# Lidiando con valores faltantes\n",
    "\n",
    "La calidad de los datos es un tema importante para cualquier proyecto que implique el análisis de datos, y una de las preocupaciones de calidad de datos más comunes con las que se encontrarán es la falta de valores.\n",
    "\n",
    "Los valores pueden faltar por muchas razones, sin embargo se pueden clasificar en dos tipos:\n",
    "\n",
    "* **Falta informativa:** implica una causa estructural para el valor perdido que puede proporcionar información (deficiencias en la forma en que se recopilaron los datos o anormalidades en el entorno observacional)\n",
    "* **Falta aleatoria:** implica que los valores faltantes ocurren independientemente del proceso de recopilación de datos\n",
    "\n",
    "Dependiendo de la categoría, determinaremos cómo los manejaremos. Por ejemplo, podemos dar a los valores con falta informativa su propia categoría (por ejemplo,\"None\") ya que su valor afectar el rendimiento predictivo. \n",
    "\n",
    "Mientras que los valores que faltan al azar pueden merecer la eliminación o la **imputación** "
   ]
  },
  {
   "cell_type": "code",
   "execution_count": 29,
   "metadata": {},
   "outputs": [
    {
     "data": {
      "text/html": [
       "13960"
      ],
      "text/latex": [
       "13960"
      ],
      "text/markdown": [
       "13960"
      ],
      "text/plain": [
       "[1] 13960"
      ]
     },
     "metadata": {},
     "output_type": "display_data"
    }
   ],
   "source": [
    "#contamos los valores faltantes\n",
    "sum(is.na(H))"
   ]
  },
  {
   "cell_type": "markdown",
   "metadata": {},
   "source": [
    "¿ Cómo podemos saber si faltan aleatoriamente o de manera informativa ? "
   ]
  },
  {
   "cell_type": "code",
   "execution_count": 32,
   "metadata": {},
   "outputs": [
    {
     "data": {},
     "metadata": {},
     "output_type": "display_data"
    },
    {
     "data": {
      "image/png": "[encoded data removed]",
      "text/plain": [
       "plot without title"
      ]
     },
     "metadata": {},
     "output_type": "display_data"
    }
   ],
   "source": [
    "options(repr.plot.width=8, repr.plot.height=8)\n",
    "H %>%\n",
    "  is.na() %>%\n",
    "  reshape2::melt() %>%\n",
    "  ggplot(aes(Var2, Var1, fill=value)) + \n",
    "    geom_raster() + \n",
    "    coord_flip() +\n",
    "    scale_y_continuous(NULL, expand = c(0, 0)) +\n",
    "    scale_fill_grey(name = \"\", labels = c(\"Present\", \"Missing\")) +\n",
    "    xlab(\"Observation\") +\n",
    "    theme(axis.text.y  = element_text(size = 6))"
   ]
  },
  {
   "cell_type": "markdown",
   "metadata": {},
   "source": [
    "Lo que ven aquí arriba es un **raster plot** , el cuál nos ayuda a observar la estructura de los datos faltantes, \n",
    "\n",
    "* ¿Cuáles son las variables con más datos faltantes ? \n",
    "* ¿Cualés creen que son datos faltantes informativos? "
   ]
  },
  {
   "cell_type": "code",
   "execution_count": 37,
   "metadata": {},
   "outputs": [
    {
     "data": {},
     "metadata": {},
     "output_type": "display_data"
    },
    {
     "data": {
      "image/png": "[encoded data removed]",
      "text/plain": [
       "plot without title"
      ]
     },
     "metadata": {},
     "output_type": "display_data"
    }
   ],
   "source": [
    "vis_miss(H, cluster = TRUE )"
   ]
  },
  {
   "cell_type": "code",
   "execution_count": 41,
   "metadata": {},
   "outputs": [
    {
     "data": {
      "text/html": [
       "<table>\n",
       "<thead><tr><th scope=col>Garage.Type</th><th scope=col>Garage.Yr.Blt</th><th scope=col>Garage.Finish</th><th scope=col>Garage.Qual</th><th scope=col>Garage.Cond</th><th scope=col>Garage.Cars</th><th scope=col>Garage.Area</th></tr></thead>\n",
       "<tbody>\n",
       "\t<tr><td>NA</td><td>NA</td><td>NA</td><td>NA</td><td>NA</td><td>0 </td><td>0 </td></tr>\n",
       "\t<tr><td>NA</td><td>NA</td><td>NA</td><td>NA</td><td>NA</td><td>0 </td><td>0 </td></tr>\n",
       "\t<tr><td>NA</td><td>NA</td><td>NA</td><td>NA</td><td>NA</td><td>0 </td><td>0 </td></tr>\n",
       "\t<tr><td>NA</td><td>NA</td><td>NA</td><td>NA</td><td>NA</td><td>0 </td><td>0 </td></tr>\n",
       "\t<tr><td>NA</td><td>NA</td><td>NA</td><td>NA</td><td>NA</td><td>0 </td><td>0 </td></tr>\n",
       "\t<tr><td>NA</td><td>NA</td><td>NA</td><td>NA</td><td>NA</td><td>0 </td><td>0 </td></tr>\n",
       "\t<tr><td>NA</td><td>NA</td><td>NA</td><td>NA</td><td>NA</td><td>0 </td><td>0 </td></tr>\n",
       "\t<tr><td>NA</td><td>NA</td><td>NA</td><td>NA</td><td>NA</td><td>0 </td><td>0 </td></tr>\n",
       "\t<tr><td>NA</td><td>NA</td><td>NA</td><td>NA</td><td>NA</td><td>0 </td><td>0 </td></tr>\n",
       "\t<tr><td>NA</td><td>NA</td><td>NA</td><td>NA</td><td>NA</td><td>0 </td><td>0 </td></tr>\n",
       "\t<tr><td>NA</td><td>NA</td><td>NA</td><td>NA</td><td>NA</td><td>0 </td><td>0 </td></tr>\n",
       "\t<tr><td>NA</td><td>NA</td><td>NA</td><td>NA</td><td>NA</td><td>0 </td><td>0 </td></tr>\n",
       "\t<tr><td>NA</td><td>NA</td><td>NA</td><td>NA</td><td>NA</td><td>0 </td><td>0 </td></tr>\n",
       "\t<tr><td>NA</td><td>NA</td><td>NA</td><td>NA</td><td>NA</td><td>0 </td><td>0 </td></tr>\n",
       "\t<tr><td>NA</td><td>NA</td><td>NA</td><td>NA</td><td>NA</td><td>0 </td><td>0 </td></tr>\n",
       "\t<tr><td>NA</td><td>NA</td><td>NA</td><td>NA</td><td>NA</td><td>0 </td><td>0 </td></tr>\n",
       "\t<tr><td>NA</td><td>NA</td><td>NA</td><td>NA</td><td>NA</td><td>0 </td><td>0 </td></tr>\n",
       "\t<tr><td>NA</td><td>NA</td><td>NA</td><td>NA</td><td>NA</td><td>0 </td><td>0 </td></tr>\n",
       "\t<tr><td>NA</td><td>NA</td><td>NA</td><td>NA</td><td>NA</td><td>0 </td><td>0 </td></tr>\n",
       "\t<tr><td>NA</td><td>NA</td><td>NA</td><td>NA</td><td>NA</td><td>0 </td><td>0 </td></tr>\n",
       "\t<tr><td>NA</td><td>NA</td><td>NA</td><td>NA</td><td>NA</td><td>0 </td><td>0 </td></tr>\n",
       "\t<tr><td>NA</td><td>NA</td><td>NA</td><td>NA</td><td>NA</td><td>0 </td><td>0 </td></tr>\n",
       "\t<tr><td>NA</td><td>NA</td><td>NA</td><td>NA</td><td>NA</td><td>0 </td><td>0 </td></tr>\n",
       "\t<tr><td>NA</td><td>NA</td><td>NA</td><td>NA</td><td>NA</td><td>0 </td><td>0 </td></tr>\n",
       "\t<tr><td>NA</td><td>NA</td><td>NA</td><td>NA</td><td>NA</td><td>0 </td><td>0 </td></tr>\n",
       "\t<tr><td>NA</td><td>NA</td><td>NA</td><td>NA</td><td>NA</td><td>0 </td><td>0 </td></tr>\n",
       "\t<tr><td>NA</td><td>NA</td><td>NA</td><td>NA</td><td>NA</td><td>0 </td><td>0 </td></tr>\n",
       "\t<tr><td>NA</td><td>NA</td><td>NA</td><td>NA</td><td>NA</td><td>0 </td><td>0 </td></tr>\n",
       "\t<tr><td>NA</td><td>NA</td><td>NA</td><td>NA</td><td>NA</td><td>0 </td><td>0 </td></tr>\n",
       "\t<tr><td>NA</td><td>NA</td><td>NA</td><td>NA</td><td>NA</td><td>0 </td><td>0 </td></tr>\n",
       "\t<tr><td>...</td><td>...</td><td>...</td><td>...</td><td>...</td><td>...</td><td>...</td></tr>\n",
       "\t<tr><td>NA</td><td>NA</td><td>NA</td><td>NA</td><td>NA</td><td>0 </td><td>0 </td></tr>\n",
       "\t<tr><td>NA</td><td>NA</td><td>NA</td><td>NA</td><td>NA</td><td>0 </td><td>0 </td></tr>\n",
       "\t<tr><td>NA</td><td>NA</td><td>NA</td><td>NA</td><td>NA</td><td>0 </td><td>0 </td></tr>\n",
       "\t<tr><td>NA</td><td>NA</td><td>NA</td><td>NA</td><td>NA</td><td>0 </td><td>0 </td></tr>\n",
       "\t<tr><td>NA</td><td>NA</td><td>NA</td><td>NA</td><td>NA</td><td>0 </td><td>0 </td></tr>\n",
       "\t<tr><td>NA</td><td>NA</td><td>NA</td><td>NA</td><td>NA</td><td>0 </td><td>0 </td></tr>\n",
       "\t<tr><td>NA</td><td>NA</td><td>NA</td><td>NA</td><td>NA</td><td>0 </td><td>0 </td></tr>\n",
       "\t<tr><td>NA</td><td>NA</td><td>NA</td><td>NA</td><td>NA</td><td>0 </td><td>0 </td></tr>\n",
       "\t<tr><td>NA</td><td>NA</td><td>NA</td><td>NA</td><td>NA</td><td>0 </td><td>0 </td></tr>\n",
       "\t<tr><td>NA</td><td>NA</td><td>NA</td><td>NA</td><td>NA</td><td>0 </td><td>0 </td></tr>\n",
       "\t<tr><td>NA</td><td>NA</td><td>NA</td><td>NA</td><td>NA</td><td>0 </td><td>0 </td></tr>\n",
       "\t<tr><td>NA</td><td>NA</td><td>NA</td><td>NA</td><td>NA</td><td>0 </td><td>0 </td></tr>\n",
       "\t<tr><td>NA</td><td>NA</td><td>NA</td><td>NA</td><td>NA</td><td>0 </td><td>0 </td></tr>\n",
       "\t<tr><td>NA</td><td>NA</td><td>NA</td><td>NA</td><td>NA</td><td>0 </td><td>0 </td></tr>\n",
       "\t<tr><td>NA</td><td>NA</td><td>NA</td><td>NA</td><td>NA</td><td>0 </td><td>0 </td></tr>\n",
       "\t<tr><td>NA</td><td>NA</td><td>NA</td><td>NA</td><td>NA</td><td>0 </td><td>0 </td></tr>\n",
       "\t<tr><td>NA</td><td>NA</td><td>NA</td><td>NA</td><td>NA</td><td>0 </td><td>0 </td></tr>\n",
       "\t<tr><td>NA</td><td>NA</td><td>NA</td><td>NA</td><td>NA</td><td>0 </td><td>0 </td></tr>\n",
       "\t<tr><td>NA</td><td>NA</td><td>NA</td><td>NA</td><td>NA</td><td>0 </td><td>0 </td></tr>\n",
       "\t<tr><td>NA</td><td>NA</td><td>NA</td><td>NA</td><td>NA</td><td>0 </td><td>0 </td></tr>\n",
       "\t<tr><td>NA</td><td>NA</td><td>NA</td><td>NA</td><td>NA</td><td>0 </td><td>0 </td></tr>\n",
       "\t<tr><td>NA</td><td>NA</td><td>NA</td><td>NA</td><td>NA</td><td>0 </td><td>0 </td></tr>\n",
       "\t<tr><td>NA</td><td>NA</td><td>NA</td><td>NA</td><td>NA</td><td>0 </td><td>0 </td></tr>\n",
       "\t<tr><td>NA</td><td>NA</td><td>NA</td><td>NA</td><td>NA</td><td>0 </td><td>0 </td></tr>\n",
       "\t<tr><td>NA</td><td>NA</td><td>NA</td><td>NA</td><td>NA</td><td>0 </td><td>0 </td></tr>\n",
       "\t<tr><td>NA</td><td>NA</td><td>NA</td><td>NA</td><td>NA</td><td>0 </td><td>0 </td></tr>\n",
       "\t<tr><td>NA</td><td>NA</td><td>NA</td><td>NA</td><td>NA</td><td>0 </td><td>0 </td></tr>\n",
       "\t<tr><td>NA</td><td>NA</td><td>NA</td><td>NA</td><td>NA</td><td>0 </td><td>0 </td></tr>\n",
       "\t<tr><td>NA</td><td>NA</td><td>NA</td><td>NA</td><td>NA</td><td>0 </td><td>0 </td></tr>\n",
       "\t<tr><td>NA</td><td>NA</td><td>NA</td><td>NA</td><td>NA</td><td>0 </td><td>0 </td></tr>\n",
       "</tbody>\n",
       "</table>\n"
      ],
      "text/latex": [
       "\\begin{tabular}{r|lllllll}\n",
       " Garage.Type & Garage.Yr.Blt & Garage.Finish & Garage.Qual & Garage.Cond & Garage.Cars & Garage.Area\\\\\n",
       "\\hline\n",
       "\t NA & NA & NA & NA & NA & 0  & 0 \\\\\n",
       "\t NA & NA & NA & NA & NA & 0  & 0 \\\\\n",
       "\t NA & NA & NA & NA & NA & 0  & 0 \\\\\n",
       "\t NA & NA & NA & NA & NA & 0  & 0 \\\\\n",
       "\t NA & NA & NA & NA & NA & 0  & 0 \\\\\n",
       "\t NA & NA & NA & NA & NA & 0  & 0 \\\\\n",
       "\t NA & NA & NA & NA & NA & 0  & 0 \\\\\n",
       "\t NA & NA & NA & NA & NA & 0  & 0 \\\\\n",
       "\t NA & NA & NA & NA & NA & 0  & 0 \\\\\n",
       "\t NA & NA & NA & NA & NA & 0  & 0 \\\\\n",
       "\t NA & NA & NA & NA & NA & 0  & 0 \\\\\n",
       "\t NA & NA & NA & NA & NA & 0  & 0 \\\\\n",
       "\t NA & NA & NA & NA & NA & 0  & 0 \\\\\n",
       "\t NA & NA & NA & NA & NA & 0  & 0 \\\\\n",
       "\t NA & NA & NA & NA & NA & 0  & 0 \\\\\n",
       "\t NA & NA & NA & NA & NA & 0  & 0 \\\\\n",
       "\t NA & NA & NA & NA & NA & 0  & 0 \\\\\n",
       "\t NA & NA & NA & NA & NA & 0  & 0 \\\\\n",
       "\t NA & NA & NA & NA & NA & 0  & 0 \\\\\n",
       "\t NA & NA & NA & NA & NA & 0  & 0 \\\\\n",
       "\t NA & NA & NA & NA & NA & 0  & 0 \\\\\n",
       "\t NA & NA & NA & NA & NA & 0  & 0 \\\\\n",
       "\t NA & NA & NA & NA & NA & 0  & 0 \\\\\n",
       "\t NA & NA & NA & NA & NA & 0  & 0 \\\\\n",
       "\t NA & NA & NA & NA & NA & 0  & 0 \\\\\n",
       "\t NA & NA & NA & NA & NA & 0  & 0 \\\\\n",
       "\t NA & NA & NA & NA & NA & 0  & 0 \\\\\n",
       "\t NA & NA & NA & NA & NA & 0  & 0 \\\\\n",
       "\t NA & NA & NA & NA & NA & 0  & 0 \\\\\n",
       "\t NA & NA & NA & NA & NA & 0  & 0 \\\\\n",
       "\t ... & ... & ... & ... & ... & ... & ...\\\\\n",
       "\t NA & NA & NA & NA & NA & 0  & 0 \\\\\n",
       "\t NA & NA & NA & NA & NA & 0  & 0 \\\\\n",
       "\t NA & NA & NA & NA & NA & 0  & 0 \\\\\n",
       "\t NA & NA & NA & NA & NA & 0  & 0 \\\\\n",
       "\t NA & NA & NA & NA & NA & 0  & 0 \\\\\n",
       "\t NA & NA & NA & NA & NA & 0  & 0 \\\\\n",
       "\t NA & NA & NA & NA & NA & 0  & 0 \\\\\n",
       "\t NA & NA & NA & NA & NA & 0  & 0 \\\\\n",
       "\t NA & NA & NA & NA & NA & 0  & 0 \\\\\n",
       "\t NA & NA & NA & NA & NA & 0  & 0 \\\\\n",
       "\t NA & NA & NA & NA & NA & 0  & 0 \\\\\n",
       "\t NA & NA & NA & NA & NA & 0  & 0 \\\\\n",
       "\t NA & NA & NA & NA & NA & 0  & 0 \\\\\n",
       "\t NA & NA & NA & NA & NA & 0  & 0 \\\\\n",
       "\t NA & NA & NA & NA & NA & 0  & 0 \\\\\n",
       "\t NA & NA & NA & NA & NA & 0  & 0 \\\\\n",
       "\t NA & NA & NA & NA & NA & 0  & 0 \\\\\n",
       "\t NA & NA & NA & NA & NA & 0  & 0 \\\\\n",
       "\t NA & NA & NA & NA & NA & 0  & 0 \\\\\n",
       "\t NA & NA & NA & NA & NA & 0  & 0 \\\\\n",
       "\t NA & NA & NA & NA & NA & 0  & 0 \\\\\n",
       "\t NA & NA & NA & NA & NA & 0  & 0 \\\\\n",
       "\t NA & NA & NA & NA & NA & 0  & 0 \\\\\n",
       "\t NA & NA & NA & NA & NA & 0  & 0 \\\\\n",
       "\t NA & NA & NA & NA & NA & 0  & 0 \\\\\n",
       "\t NA & NA & NA & NA & NA & 0  & 0 \\\\\n",
       "\t NA & NA & NA & NA & NA & 0  & 0 \\\\\n",
       "\t NA & NA & NA & NA & NA & 0  & 0 \\\\\n",
       "\t NA & NA & NA & NA & NA & 0  & 0 \\\\\n",
       "\t NA & NA & NA & NA & NA & 0  & 0 \\\\\n",
       "\\end{tabular}\n"
      ],
      "text/markdown": [
       "\n",
       "Garage.Type | Garage.Yr.Blt | Garage.Finish | Garage.Qual | Garage.Cond | Garage.Cars | Garage.Area | \n",
       "|---|---|---|---|---|---|---|---|---|---|---|---|---|---|---|---|---|---|---|---|---|---|---|---|---|---|---|---|---|---|---|---|---|---|---|---|---|---|---|---|---|---|---|---|---|---|---|---|---|---|---|---|---|---|---|---|---|---|---|---|---|\n",
       "| NA | NA | NA | NA | NA | 0  | 0  | \n",
       "| NA | NA | NA | NA | NA | 0  | 0  | \n",
       "| NA | NA | NA | NA | NA | 0  | 0  | \n",
       "| NA | NA | NA | NA | NA | 0  | 0  | \n",
       "| NA | NA | NA | NA | NA | 0  | 0  | \n",
       "| NA | NA | NA | NA | NA | 0  | 0  | \n",
       "| NA | NA | NA | NA | NA | 0  | 0  | \n",
       "| NA | NA | NA | NA | NA | 0  | 0  | \n",
       "| NA | NA | NA | NA | NA | 0  | 0  | \n",
       "| NA | NA | NA | NA | NA | 0  | 0  | \n",
       "| NA | NA | NA | NA | NA | 0  | 0  | \n",
       "| NA | NA | NA | NA | NA | 0  | 0  | \n",
       "| NA | NA | NA | NA | NA | 0  | 0  | \n",
       "| NA | NA | NA | NA | NA | 0  | 0  | \n",
       "| NA | NA | NA | NA | NA | 0  | 0  | \n",
       "| NA | NA | NA | NA | NA | 0  | 0  | \n",
       "| NA | NA | NA | NA | NA | 0  | 0  | \n",
       "| NA | NA | NA | NA | NA | 0  | 0  | \n",
       "| NA | NA | NA | NA | NA | 0  | 0  | \n",
       "| NA | NA | NA | NA | NA | 0  | 0  | \n",
       "| NA | NA | NA | NA | NA | 0  | 0  | \n",
       "| NA | NA | NA | NA | NA | 0  | 0  | \n",
       "| NA | NA | NA | NA | NA | 0  | 0  | \n",
       "| NA | NA | NA | NA | NA | 0  | 0  | \n",
       "| NA | NA | NA | NA | NA | 0  | 0  | \n",
       "| NA | NA | NA | NA | NA | 0  | 0  | \n",
       "| NA | NA | NA | NA | NA | 0  | 0  | \n",
       "| NA | NA | NA | NA | NA | 0  | 0  | \n",
       "| NA | NA | NA | NA | NA | 0  | 0  | \n",
       "| NA | NA | NA | NA | NA | 0  | 0  | \n",
       "| ... | ... | ... | ... | ... | ... | ... | \n",
       "| NA | NA | NA | NA | NA | 0  | 0  | \n",
       "| NA | NA | NA | NA | NA | 0  | 0  | \n",
       "| NA | NA | NA | NA | NA | 0  | 0  | \n",
       "| NA | NA | NA | NA | NA | 0  | 0  | \n",
       "| NA | NA | NA | NA | NA | 0  | 0  | \n",
       "| NA | NA | NA | NA | NA | 0  | 0  | \n",
       "| NA | NA | NA | NA | NA | 0  | 0  | \n",
       "| NA | NA | NA | NA | NA | 0  | 0  | \n",
       "| NA | NA | NA | NA | NA | 0  | 0  | \n",
       "| NA | NA | NA | NA | NA | 0  | 0  | \n",
       "| NA | NA | NA | NA | NA | 0  | 0  | \n",
       "| NA | NA | NA | NA | NA | 0  | 0  | \n",
       "| NA | NA | NA | NA | NA | 0  | 0  | \n",
       "| NA | NA | NA | NA | NA | 0  | 0  | \n",
       "| NA | NA | NA | NA | NA | 0  | 0  | \n",
       "| NA | NA | NA | NA | NA | 0  | 0  | \n",
       "| NA | NA | NA | NA | NA | 0  | 0  | \n",
       "| NA | NA | NA | NA | NA | 0  | 0  | \n",
       "| NA | NA | NA | NA | NA | 0  | 0  | \n",
       "| NA | NA | NA | NA | NA | 0  | 0  | \n",
       "| NA | NA | NA | NA | NA | 0  | 0  | \n",
       "| NA | NA | NA | NA | NA | 0  | 0  | \n",
       "| NA | NA | NA | NA | NA | 0  | 0  | \n",
       "| NA | NA | NA | NA | NA | 0  | 0  | \n",
       "| NA | NA | NA | NA | NA | 0  | 0  | \n",
       "| NA | NA | NA | NA | NA | 0  | 0  | \n",
       "| NA | NA | NA | NA | NA | 0  | 0  | \n",
       "| NA | NA | NA | NA | NA | 0  | 0  | \n",
       "| NA | NA | NA | NA | NA | 0  | 0  | \n",
       "| NA | NA | NA | NA | NA | 0  | 0  | \n",
       "\n",
       "\n"
      ],
      "text/plain": [
       "    Garage.Type Garage.Yr.Blt Garage.Finish Garage.Qual Garage.Cond Garage.Cars\n",
       "1   NA          NA            NA            NA          NA          0          \n",
       "2   NA          NA            NA            NA          NA          0          \n",
       "3   NA          NA            NA            NA          NA          0          \n",
       "4   NA          NA            NA            NA          NA          0          \n",
       "5   NA          NA            NA            NA          NA          0          \n",
       "6   NA          NA            NA            NA          NA          0          \n",
       "7   NA          NA            NA            NA          NA          0          \n",
       "8   NA          NA            NA            NA          NA          0          \n",
       "9   NA          NA            NA            NA          NA          0          \n",
       "10  NA          NA            NA            NA          NA          0          \n",
       "11  NA          NA            NA            NA          NA          0          \n",
       "12  NA          NA            NA            NA          NA          0          \n",
       "13  NA          NA            NA            NA          NA          0          \n",
       "14  NA          NA            NA            NA          NA          0          \n",
       "15  NA          NA            NA            NA          NA          0          \n",
       "16  NA          NA            NA            NA          NA          0          \n",
       "17  NA          NA            NA            NA          NA          0          \n",
       "18  NA          NA            NA            NA          NA          0          \n",
       "19  NA          NA            NA            NA          NA          0          \n",
       "20  NA          NA            NA            NA          NA          0          \n",
       "21  NA          NA            NA            NA          NA          0          \n",
       "22  NA          NA            NA            NA          NA          0          \n",
       "23  NA          NA            NA            NA          NA          0          \n",
       "24  NA          NA            NA            NA          NA          0          \n",
       "25  NA          NA            NA            NA          NA          0          \n",
       "26  NA          NA            NA            NA          NA          0          \n",
       "27  NA          NA            NA            NA          NA          0          \n",
       "28  NA          NA            NA            NA          NA          0          \n",
       "29  NA          NA            NA            NA          NA          0          \n",
       "30  NA          NA            NA            NA          NA          0          \n",
       "... ...         ...           ...           ...         ...         ...        \n",
       "128 NA          NA            NA            NA          NA          0          \n",
       "129 NA          NA            NA            NA          NA          0          \n",
       "130 NA          NA            NA            NA          NA          0          \n",
       "131 NA          NA            NA            NA          NA          0          \n",
       "132 NA          NA            NA            NA          NA          0          \n",
       "133 NA          NA            NA            NA          NA          0          \n",
       "134 NA          NA            NA            NA          NA          0          \n",
       "135 NA          NA            NA            NA          NA          0          \n",
       "136 NA          NA            NA            NA          NA          0          \n",
       "137 NA          NA            NA            NA          NA          0          \n",
       "138 NA          NA            NA            NA          NA          0          \n",
       "139 NA          NA            NA            NA          NA          0          \n",
       "140 NA          NA            NA            NA          NA          0          \n",
       "141 NA          NA            NA            NA          NA          0          \n",
       "142 NA          NA            NA            NA          NA          0          \n",
       "143 NA          NA            NA            NA          NA          0          \n",
       "144 NA          NA            NA            NA          NA          0          \n",
       "145 NA          NA            NA            NA          NA          0          \n",
       "146 NA          NA            NA            NA          NA          0          \n",
       "147 NA          NA            NA            NA          NA          0          \n",
       "148 NA          NA            NA            NA          NA          0          \n",
       "149 NA          NA            NA            NA          NA          0          \n",
       "150 NA          NA            NA            NA          NA          0          \n",
       "151 NA          NA            NA            NA          NA          0          \n",
       "152 NA          NA            NA            NA          NA          0          \n",
       "153 NA          NA            NA            NA          NA          0          \n",
       "154 NA          NA            NA            NA          NA          0          \n",
       "155 NA          NA            NA            NA          NA          0          \n",
       "156 NA          NA            NA            NA          NA          0          \n",
       "157 NA          NA            NA            NA          NA          0          \n",
       "    Garage.Area\n",
       "1   0          \n",
       "2   0          \n",
       "3   0          \n",
       "4   0          \n",
       "5   0          \n",
       "6   0          \n",
       "7   0          \n",
       "8   0          \n",
       "9   0          \n",
       "10  0          \n",
       "11  0          \n",
       "12  0          \n",
       "13  0          \n",
       "14  0          \n",
       "15  0          \n",
       "16  0          \n",
       "17  0          \n",
       "18  0          \n",
       "19  0          \n",
       "20  0          \n",
       "21  0          \n",
       "22  0          \n",
       "23  0          \n",
       "24  0          \n",
       "25  0          \n",
       "26  0          \n",
       "27  0          \n",
       "28  0          \n",
       "29  0          \n",
       "30  0          \n",
       "... ...        \n",
       "128 0          \n",
       "129 0          \n",
       "130 0          \n",
       "131 0          \n",
       "132 0          \n",
       "133 0          \n",
       "134 0          \n",
       "135 0          \n",
       "136 0          \n",
       "137 0          \n",
       "138 0          \n",
       "139 0          \n",
       "140 0          \n",
       "141 0          \n",
       "142 0          \n",
       "143 0          \n",
       "144 0          \n",
       "145 0          \n",
       "146 0          \n",
       "147 0          \n",
       "148 0          \n",
       "149 0          \n",
       "150 0          \n",
       "151 0          \n",
       "152 0          \n",
       "153 0          \n",
       "154 0          \n",
       "155 0          \n",
       "156 0          \n",
       "157 0          "
      ]
     },
     "metadata": {},
     "output_type": "display_data"
    }
   ],
   "source": [
    "H %>% \n",
    "  filter(is.na(Garage.Type)) %>% \n",
    "      select(Garage.Type,Garage.Yr.Blt,Garage.Finish,Garage.Qual,Garage.Cond,Garage.Cars,Garage.Area)"
   ]
  },
  {
   "cell_type": "markdown",
   "metadata": {},
   "source": [
    "Por ejemplo, podemos observar, que **Garage.Cars** y **Garage.Area** contienen el valor 0 siempre que las otras variables de **Garage.xx** tengan valores faltantes (es decir, un valor de NA). Esto podría deberse a que no tenían una forma de identificar casas sin garajes cuando los datos se recopilaron originalmente y, por lo tanto, todas las casas sin garaje se identificaron al no incluir nada. Dado que esta falta es informativa, sería apropiado imputar a NA un nuevo nivel de categoría (por ejemplo, \"None\") para estas variables de garaje."
   ]
  },
  {
   "cell_type": "markdown",
   "metadata": {},
   "source": [
    "# Inputación\n",
    "\n",
    "La imputación es el proceso de reemplazar un valor faltante con una estimación. La imputación debe ser uno de los primeros pasos de ingeniería de características que realice, ya que afectará **todos** los procesos posteriores.\n",
    "\n",
    "Existen varias formas de inputar, un enfoque elemental es calcular estadísticas descriptivas como la media, la mediana o el modo (para variables categóricas) y usar ese valor para reemplazar los NA. \n",
    "\n",
    "Aunque es computacionalmente eficiente, este enfoque no considera ningún otro atributo para una observación dada al imputar (por ejemplo, una paciente de 1.62m de alto puede tener su peso imputado de 80 Kg, ya que ese es el peso promedio en todas las observaciones que contiene 75% hombres que promedian una altura de 1.85)\n"
   ]
  },
  {
   "cell_type": "code",
   "execution_count": 42,
   "metadata": {},
   "outputs": [
    {
     "data": {
      "text/plain": [
       "Data Recipe\n",
       "\n",
       "Inputs:\n",
       "\n",
       "      role #variables\n",
       "   outcome          1\n",
       " predictor         81\n",
       "\n",
       "Steps:\n",
       "\n",
       "Log transformation on all_outcomes()\n",
       "5-nearest neighbor imputation for all_predictors(), 6"
      ]
     },
     "metadata": {},
     "output_type": "display_data"
    }
   ],
   "source": [
    "H_recipe %>%\n",
    "  step_knnimpute(all_predictors(), neighbors = 6)"
   ]
  },
  {
   "cell_type": "markdown",
   "metadata": {},
   "source": [
    "# Filtrado de predictores\n",
    "\n",
    "En muchos análisis de datos y proyectos de modelado, terminamos con cientos o incluso miles de atributos/predictores. Desde una perspectiva práctica, un modelo con más características a menudo se vuelve más difícil de interpretar y es costoso computacionalmente.\n",
    "\n",
    "![no_informative](https://bradleyboehmke.github.io/HOML/03-engineering_files/figure-html/accuracy-comparison-1.png)\n",
    "\n",
    "Aunque el rendimiento de algunos de nuestros modelos no se ve afectado significativamente por predictores no informativos, el tiempo para entrenar estos modelos puede verse afectado negativamente a medida que se agregan más:\n",
    "\n",
    "![no_time](https://bradleyboehmke.github.io/HOML/03-engineering_files/figure-html/impact-on-time-1.png)\n",
    "\n",
    "## Atributos sin varianza\n",
    "\n",
    "Los atributos sin varianza, son los que podemos identificar como poco informativos, **zero-variance** son aquellos que solo tienen un valor, **near-zero variance** son aquellos que existe una observación dominante.\n",
    "\n",
    "Cómo regla podemos identificar los atributos **near-zero variance** si:\n",
    "\n",
    "* La fracción de valores únicos sobre en la muestra es baja (digamos $10$%)\n",
    "* La relación entre la frecuencia del valor más frecuente y la frecuencia del segundo valor más frecuente es grande (digamos $20$%)"
   ]
  },
  {
   "cell_type": "code",
   "execution_count": 43,
   "metadata": {},
   "outputs": [
    {
     "data": {
      "text/html": [
       "<table>\n",
       "<thead><tr><th scope=col>rowname</th><th scope=col>freqRatio</th><th scope=col>percentUnique</th><th scope=col>zeroVar</th><th scope=col>nzv</th></tr></thead>\n",
       "<tbody>\n",
       "\t<tr><td>Street         </td><td> 204.30000     </td><td>0.09741841     </td><td>FALSE          </td><td>TRUE           </td></tr>\n",
       "\t<tr><td>Land.Contour   </td><td>  21.96429     </td><td>0.19483682     </td><td>FALSE          </td><td>TRUE           </td></tr>\n",
       "\t<tr><td>Utilities      </td><td>2051.00000     </td><td>0.14612762     </td><td>FALSE          </td><td>TRUE           </td></tr>\n",
       "\t<tr><td>Land.Slope     </td><td>  22.17045     </td><td>0.14612762     </td><td>FALSE          </td><td>TRUE           </td></tr>\n",
       "\t<tr><td>Condition.2    </td><td> 169.00000     </td><td>0.34096444     </td><td>FALSE          </td><td>TRUE           </td></tr>\n",
       "\t<tr><td>Roof.Matl      </td><td> 126.43750     </td><td>0.34096444     </td><td>FALSE          </td><td>TRUE           </td></tr>\n",
       "\t<tr><td>Bsmt.Cond      </td><td>  21.67857     </td><td>0.29225524     </td><td>FALSE          </td><td>TRUE           </td></tr>\n",
       "\t<tr><td>BsmtFin.Type.2 </td><td>  24.16667     </td><td>0.34096444     </td><td>FALSE          </td><td>TRUE           </td></tr>\n",
       "\t<tr><td>Heating        </td><td> 118.94118     </td><td>0.29225524     </td><td>FALSE          </td><td>TRUE           </td></tr>\n",
       "\t<tr><td>Low.Qual.Fin.SF</td><td> 505.50000     </td><td>1.31514856     </td><td>FALSE          </td><td>TRUE           </td></tr>\n",
       "\t<tr><td>Kitchen.AbvGr  </td><td>  21.78889     </td><td>0.19483682     </td><td>FALSE          </td><td>TRUE           </td></tr>\n",
       "\t<tr><td>Functional     </td><td>  38.14000     </td><td>0.38967365     </td><td>FALSE          </td><td>TRUE           </td></tr>\n",
       "\t<tr><td>Garage.Qual    </td><td>  21.45882     </td><td>0.24354603     </td><td>FALSE          </td><td>TRUE           </td></tr>\n",
       "\t<tr><td>Garage.Cond    </td><td>  38.75000     </td><td>0.24354603     </td><td>FALSE          </td><td>TRUE           </td></tr>\n",
       "\t<tr><td>Enclosed.Porch </td><td> 123.35714     </td><td>7.64734535     </td><td>FALSE          </td><td>TRUE           </td></tr>\n",
       "\t<tr><td>X3Ssn.Porch    </td><td> 675.66667     </td><td>1.21773015     </td><td>FALSE          </td><td>TRUE           </td></tr>\n",
       "\t<tr><td>Screen.Porch   </td><td> 268.00000     </td><td>4.72479299     </td><td>FALSE          </td><td>TRUE           </td></tr>\n",
       "\t<tr><td>Pool.Area      </td><td>2043.00000     </td><td>0.53580127     </td><td>FALSE          </td><td>TRUE           </td></tr>\n",
       "\t<tr><td>Misc.Val       </td><td> 152.07692     </td><td>1.50998539     </td><td>FALSE          </td><td>TRUE           </td></tr>\n",
       "</tbody>\n",
       "</table>\n"
      ],
      "text/latex": [
       "\\begin{tabular}{r|lllll}\n",
       " rowname & freqRatio & percentUnique & zeroVar & nzv\\\\\n",
       "\\hline\n",
       "\t Street          &  204.30000      & 0.09741841      & FALSE           & TRUE           \\\\\n",
       "\t Land.Contour    &   21.96429      & 0.19483682      & FALSE           & TRUE           \\\\\n",
       "\t Utilities       & 2051.00000      & 0.14612762      & FALSE           & TRUE           \\\\\n",
       "\t Land.Slope      &   22.17045      & 0.14612762      & FALSE           & TRUE           \\\\\n",
       "\t Condition.2     &  169.00000      & 0.34096444      & FALSE           & TRUE           \\\\\n",
       "\t Roof.Matl       &  126.43750      & 0.34096444      & FALSE           & TRUE           \\\\\n",
       "\t Bsmt.Cond       &   21.67857      & 0.29225524      & FALSE           & TRUE           \\\\\n",
       "\t BsmtFin.Type.2  &   24.16667      & 0.34096444      & FALSE           & TRUE           \\\\\n",
       "\t Heating         &  118.94118      & 0.29225524      & FALSE           & TRUE           \\\\\n",
       "\t Low.Qual.Fin.SF &  505.50000      & 1.31514856      & FALSE           & TRUE           \\\\\n",
       "\t Kitchen.AbvGr   &   21.78889      & 0.19483682      & FALSE           & TRUE           \\\\\n",
       "\t Functional      &   38.14000      & 0.38967365      & FALSE           & TRUE           \\\\\n",
       "\t Garage.Qual     &   21.45882      & 0.24354603      & FALSE           & TRUE           \\\\\n",
       "\t Garage.Cond     &   38.75000      & 0.24354603      & FALSE           & TRUE           \\\\\n",
       "\t Enclosed.Porch  &  123.35714      & 7.64734535      & FALSE           & TRUE           \\\\\n",
       "\t X3Ssn.Porch     &  675.66667      & 1.21773015      & FALSE           & TRUE           \\\\\n",
       "\t Screen.Porch    &  268.00000      & 4.72479299      & FALSE           & TRUE           \\\\\n",
       "\t Pool.Area       & 2043.00000      & 0.53580127      & FALSE           & TRUE           \\\\\n",
       "\t Misc.Val        &  152.07692      & 1.50998539      & FALSE           & TRUE           \\\\\n",
       "\\end{tabular}\n"
      ],
      "text/markdown": [
       "\n",
       "rowname | freqRatio | percentUnique | zeroVar | nzv | \n",
       "|---|---|---|---|---|---|---|---|---|---|---|---|---|---|---|---|---|---|---|\n",
       "| Street          |  204.30000      | 0.09741841      | FALSE           | TRUE            | \n",
       "| Land.Contour    |   21.96429      | 0.19483682      | FALSE           | TRUE            | \n",
       "| Utilities       | 2051.00000      | 0.14612762      | FALSE           | TRUE            | \n",
       "| Land.Slope      |   22.17045      | 0.14612762      | FALSE           | TRUE            | \n",
       "| Condition.2     |  169.00000      | 0.34096444      | FALSE           | TRUE            | \n",
       "| Roof.Matl       |  126.43750      | 0.34096444      | FALSE           | TRUE            | \n",
       "| Bsmt.Cond       |   21.67857      | 0.29225524      | FALSE           | TRUE            | \n",
       "| BsmtFin.Type.2  |   24.16667      | 0.34096444      | FALSE           | TRUE            | \n",
       "| Heating         |  118.94118      | 0.29225524      | FALSE           | TRUE            | \n",
       "| Low.Qual.Fin.SF |  505.50000      | 1.31514856      | FALSE           | TRUE            | \n",
       "| Kitchen.AbvGr   |   21.78889      | 0.19483682      | FALSE           | TRUE            | \n",
       "| Functional      |   38.14000      | 0.38967365      | FALSE           | TRUE            | \n",
       "| Garage.Qual     |   21.45882      | 0.24354603      | FALSE           | TRUE            | \n",
       "| Garage.Cond     |   38.75000      | 0.24354603      | FALSE           | TRUE            | \n",
       "| Enclosed.Porch  |  123.35714      | 7.64734535      | FALSE           | TRUE            | \n",
       "| X3Ssn.Porch     |  675.66667      | 1.21773015      | FALSE           | TRUE            | \n",
       "| Screen.Porch    |  268.00000      | 4.72479299      | FALSE           | TRUE            | \n",
       "| Pool.Area       | 2043.00000      | 0.53580127      | FALSE           | TRUE            | \n",
       "| Misc.Val        |  152.07692      | 1.50998539      | FALSE           | TRUE            | \n",
       "\n",
       "\n"
      ],
      "text/plain": [
       "   rowname         freqRatio  percentUnique zeroVar nzv \n",
       "1  Street           204.30000 0.09741841    FALSE   TRUE\n",
       "2  Land.Contour      21.96429 0.19483682    FALSE   TRUE\n",
       "3  Utilities       2051.00000 0.14612762    FALSE   TRUE\n",
       "4  Land.Slope        22.17045 0.14612762    FALSE   TRUE\n",
       "5  Condition.2      169.00000 0.34096444    FALSE   TRUE\n",
       "6  Roof.Matl        126.43750 0.34096444    FALSE   TRUE\n",
       "7  Bsmt.Cond         21.67857 0.29225524    FALSE   TRUE\n",
       "8  BsmtFin.Type.2    24.16667 0.34096444    FALSE   TRUE\n",
       "9  Heating          118.94118 0.29225524    FALSE   TRUE\n",
       "10 Low.Qual.Fin.SF  505.50000 1.31514856    FALSE   TRUE\n",
       "11 Kitchen.AbvGr     21.78889 0.19483682    FALSE   TRUE\n",
       "12 Functional        38.14000 0.38967365    FALSE   TRUE\n",
       "13 Garage.Qual       21.45882 0.24354603    FALSE   TRUE\n",
       "14 Garage.Cond       38.75000 0.24354603    FALSE   TRUE\n",
       "15 Enclosed.Porch   123.35714 7.64734535    FALSE   TRUE\n",
       "16 X3Ssn.Porch      675.66667 1.21773015    FALSE   TRUE\n",
       "17 Screen.Porch     268.00000 4.72479299    FALSE   TRUE\n",
       "18 Pool.Area       2043.00000 0.53580127    FALSE   TRUE\n",
       "19 Misc.Val         152.07692 1.50998539    FALSE   TRUE"
      ]
     },
     "metadata": {},
     "output_type": "display_data"
    }
   ],
   "source": [
    "caret::nearZeroVar(H_train, saveMetrics= TRUE) %>% \n",
    "  rownames_to_column() %>% \n",
    "  filter(nzv)"
   ]
  },
  {
   "cell_type": "markdown",
   "metadata": {},
   "source": [
    "No tenemos predictores **zero-variance** pero tenos 21 **near-zero variance** !!!\n",
    "\n",
    "# Ingeniería de carácteristicas numéricas\n",
    "\n",
    "## Normalización\n",
    "De manera similar al proceso discutido para normalizar las variables objetivo, los modelos paramétricos que tienen supuestos de distribución (por ejemplo, GLM) pueden beneficiarse al minimizar la asimetría de la distribución. \n",
    "\n",
    "Al normalizar muchas variables, es mejor usar los procedimientos Box-Cox (cuando los valores de las características son estrictamente positivos) o Yeo-Johnson (cuando los valores de las características no son estrictamente positivos) ya que estos métodos identificarán si se requiere una transformación y cuál es la transformación óptima si existe."
   ]
  },
  {
   "cell_type": "code",
   "execution_count": 44,
   "metadata": {},
   "outputs": [
    {
     "data": {
      "text/plain": [
       "Data Recipe\n",
       "\n",
       "Inputs:\n",
       "\n",
       "      role #variables\n",
       "   outcome          1\n",
       " predictor         81\n",
       "\n",
       "Steps:\n",
       "\n",
       "Yeo-Johnson transformation on all_numeric()"
      ]
     },
     "metadata": {},
     "output_type": "display_data"
    }
   ],
   "source": [
    "recipe(SalePrice ~ ., data = H_train) %>%\n",
    "  step_YeoJohnson(all_numeric()) "
   ]
  },
  {
   "cell_type": "markdown",
   "metadata": {},
   "source": [
    "## Estandarización\n",
    "\n",
    "También debemos considerar la escala en la que se miden las características. ¿Cuáles son los valores más grandes y más pequeños en todas las características y abarcan varios órdenes de magnitud?\n",
    "\n",
    "Las estandarización consiste en centrar y escalar para que las variables numéricas tengan $\\mu = 0$ y $\\sigma^2 = 1$ lo que proporciona una unidad de medida común comparable en todas las variables.\n",
    "\n",
    "![Estandarization](https://bradleyboehmke.github.io/HOML/03-engineering_files/figure-html/standardizing-1.png)\n",
    "\n"
   ]
  },
  {
   "cell_type": "code",
   "execution_count": 45,
   "metadata": {},
   "outputs": [
    {
     "data": {
      "text/plain": [
       "Data Recipe\n",
       "\n",
       "Inputs:\n",
       "\n",
       "      role #variables\n",
       "   outcome          1\n",
       " predictor         81\n",
       "\n",
       "Steps:\n",
       "\n",
       "Log transformation on all_outcomes()\n",
       "Centering for all_numeric(), -all_outcomes()\n",
       "Scaling for all_numeric(), -all_outcomes()"
      ]
     },
     "metadata": {},
     "output_type": "display_data"
    }
   ],
   "source": [
    "H_recipe %>%\n",
    "  step_center(all_numeric(), -all_outcomes()) %>%\n",
    "  step_scale(all_numeric(), -all_outcomes())"
   ]
  },
  {
   "cell_type": "markdown",
   "metadata": {},
   "source": [
    "# Ingeniería de carácteristicas categóricas\n",
    "\n",
    "Algunas veces las características categóricas contendrán niveles que tienen muy pocas observaciones. Por ejemplo, hay 28 vecindarios únicos representados en los datos de vivienda de H, pero varios de ellos solo tienen unas pocas observaciones."
   ]
  },
  {
   "cell_type": "code",
   "execution_count": 54,
   "metadata": {},
   "outputs": [
    {
     "data": {
      "text/html": [
       "<table>\n",
       "<thead><tr><th scope=col>Neighborhood</th><th scope=col>n</th></tr></thead>\n",
       "<tbody>\n",
       "\t<tr><td>Landmrk</td><td>  1    </td></tr>\n",
       "\t<tr><td>GrnHill</td><td>  2    </td></tr>\n",
       "\t<tr><td>Blueste</td><td>  4    </td></tr>\n",
       "\t<tr><td>Greens </td><td>  5    </td></tr>\n",
       "\t<tr><td>Veenker</td><td> 17    </td></tr>\n",
       "\t<tr><td>BrDale </td><td> 18    </td></tr>\n",
       "\t<tr><td>Blmngtn</td><td> 19    </td></tr>\n",
       "\t<tr><td>NPkVill</td><td> 19    </td></tr>\n",
       "\t<tr><td>MeadowV</td><td> 30    </td></tr>\n",
       "\t<tr><td>ClearCr</td><td> 34    </td></tr>\n",
       "\t<tr><td>StoneBr</td><td> 38    </td></tr>\n",
       "\t<tr><td>SWISU  </td><td> 42    </td></tr>\n",
       "\t<tr><td>Timber </td><td> 48    </td></tr>\n",
       "\t<tr><td>NoRidge</td><td> 51    </td></tr>\n",
       "\t<tr><td>IDOTRR </td><td> 65    </td></tr>\n",
       "\t<tr><td>Crawfor</td><td> 74    </td></tr>\n",
       "\t<tr><td>Mitchel</td><td> 78    </td></tr>\n",
       "\t<tr><td>BrkSide</td><td> 82    </td></tr>\n",
       "\t<tr><td>SawyerW</td><td> 85    </td></tr>\n",
       "\t<tr><td>NWAmes </td><td> 93    </td></tr>\n",
       "\t<tr><td>Sawyer </td><td> 94    </td></tr>\n",
       "\t<tr><td>Gilbert</td><td>108    </td></tr>\n",
       "\t<tr><td>NridgHt</td><td>117    </td></tr>\n",
       "\t<tr><td>Somerst</td><td>124    </td></tr>\n",
       "\t<tr><td>Edwards</td><td>132    </td></tr>\n",
       "\t<tr><td>OldTown</td><td>171    </td></tr>\n",
       "\t<tr><td>CollgCr</td><td>187    </td></tr>\n",
       "\t<tr><td>NAmes  </td><td>315    </td></tr>\n",
       "</tbody>\n",
       "</table>\n"
      ],
      "text/latex": [
       "\\begin{tabular}{r|ll}\n",
       " Neighborhood & n\\\\\n",
       "\\hline\n",
       "\t Landmrk &   1    \\\\\n",
       "\t GrnHill &   2    \\\\\n",
       "\t Blueste &   4    \\\\\n",
       "\t Greens  &   5    \\\\\n",
       "\t Veenker &  17    \\\\\n",
       "\t BrDale  &  18    \\\\\n",
       "\t Blmngtn &  19    \\\\\n",
       "\t NPkVill &  19    \\\\\n",
       "\t MeadowV &  30    \\\\\n",
       "\t ClearCr &  34    \\\\\n",
       "\t StoneBr &  38    \\\\\n",
       "\t SWISU   &  42    \\\\\n",
       "\t Timber  &  48    \\\\\n",
       "\t NoRidge &  51    \\\\\n",
       "\t IDOTRR  &  65    \\\\\n",
       "\t Crawfor &  74    \\\\\n",
       "\t Mitchel &  78    \\\\\n",
       "\t BrkSide &  82    \\\\\n",
       "\t SawyerW &  85    \\\\\n",
       "\t NWAmes  &  93    \\\\\n",
       "\t Sawyer  &  94    \\\\\n",
       "\t Gilbert & 108    \\\\\n",
       "\t NridgHt & 117    \\\\\n",
       "\t Somerst & 124    \\\\\n",
       "\t Edwards & 132    \\\\\n",
       "\t OldTown & 171    \\\\\n",
       "\t CollgCr & 187    \\\\\n",
       "\t NAmes   & 315    \\\\\n",
       "\\end{tabular}\n"
      ],
      "text/markdown": [
       "\n",
       "Neighborhood | n | \n",
       "|---|---|---|---|---|---|---|---|---|---|---|---|---|---|---|---|---|---|---|---|---|---|---|---|---|---|---|---|\n",
       "| Landmrk |   1     | \n",
       "| GrnHill |   2     | \n",
       "| Blueste |   4     | \n",
       "| Greens  |   5     | \n",
       "| Veenker |  17     | \n",
       "| BrDale  |  18     | \n",
       "| Blmngtn |  19     | \n",
       "| NPkVill |  19     | \n",
       "| MeadowV |  30     | \n",
       "| ClearCr |  34     | \n",
       "| StoneBr |  38     | \n",
       "| SWISU   |  42     | \n",
       "| Timber  |  48     | \n",
       "| NoRidge |  51     | \n",
       "| IDOTRR  |  65     | \n",
       "| Crawfor |  74     | \n",
       "| Mitchel |  78     | \n",
       "| BrkSide |  82     | \n",
       "| SawyerW |  85     | \n",
       "| NWAmes  |  93     | \n",
       "| Sawyer  |  94     | \n",
       "| Gilbert | 108     | \n",
       "| NridgHt | 117     | \n",
       "| Somerst | 124     | \n",
       "| Edwards | 132     | \n",
       "| OldTown | 171     | \n",
       "| CollgCr | 187     | \n",
       "| NAmes   | 315     | \n",
       "\n",
       "\n"
      ],
      "text/plain": [
       "   Neighborhood n  \n",
       "1  Landmrk        1\n",
       "2  GrnHill        2\n",
       "3  Blueste        4\n",
       "4  Greens         5\n",
       "5  Veenker       17\n",
       "6  BrDale        18\n",
       "7  Blmngtn       19\n",
       "8  NPkVill       19\n",
       "9  MeadowV       30\n",
       "10 ClearCr       34\n",
       "11 StoneBr       38\n",
       "12 SWISU         42\n",
       "13 Timber        48\n",
       "14 NoRidge       51\n",
       "15 IDOTRR        65\n",
       "16 Crawfor       74\n",
       "17 Mitchel       78\n",
       "18 BrkSide       82\n",
       "19 SawyerW       85\n",
       "20 NWAmes        93\n",
       "21 Sawyer        94\n",
       "22 Gilbert      108\n",
       "23 NridgHt      117\n",
       "24 Somerst      124\n",
       "25 Edwards      132\n",
       "26 OldTown      171\n",
       "27 CollgCr      187\n",
       "28 NAmes        315"
      ]
     },
     "metadata": {},
     "output_type": "display_data"
    }
   ],
   "source": [
    "count(H_train, Neighborhood) %>% arrange(n)"
   ]
  },
  {
   "cell_type": "markdown",
   "metadata": {},
   "source": [
    "Incluso las características numéricas pueden tener distribuciones similares. Por ejemplo, Screen.Porch tiene 92% de valores registrados como cero (cero pies cuadrados que significa que no hay porche de pantalla) y el 8% restante tiene valores dispersos únicos"
   ]
  },
  {
   "cell_type": "code",
   "execution_count": 49,
   "metadata": {},
   "outputs": [
    {
     "data": {
      "text/html": [
       "<table>\n",
       "<thead><tr><th scope=col>Screen.Porch</th><th scope=col>n</th></tr></thead>\n",
       "<tbody>\n",
       "\t<tr><td>  0 </td><td>1876</td></tr>\n",
       "\t<tr><td> 40 </td><td>   1</td></tr>\n",
       "\t<tr><td> 88 </td><td>   1</td></tr>\n",
       "\t<tr><td> 90 </td><td>   2</td></tr>\n",
       "\t<tr><td> 92 </td><td>   1</td></tr>\n",
       "\t<tr><td> 99 </td><td>   1</td></tr>\n",
       "\t<tr><td>100 </td><td>   3</td></tr>\n",
       "\t<tr><td>108 </td><td>   1</td></tr>\n",
       "\t<tr><td>109 </td><td>   1</td></tr>\n",
       "\t<tr><td>110 </td><td>   2</td></tr>\n",
       "\t<tr><td>111 </td><td>   1</td></tr>\n",
       "\t<tr><td>112 </td><td>   3</td></tr>\n",
       "\t<tr><td>113 </td><td>   1</td></tr>\n",
       "\t<tr><td>115 </td><td>   3</td></tr>\n",
       "\t<tr><td>117 </td><td>   1</td></tr>\n",
       "\t<tr><td>120 </td><td>   7</td></tr>\n",
       "\t<tr><td>121 </td><td>   1</td></tr>\n",
       "\t<tr><td>122 </td><td>   1</td></tr>\n",
       "\t<tr><td>126 </td><td>   4</td></tr>\n",
       "\t<tr><td>128 </td><td>   1</td></tr>\n",
       "\t<tr><td>135 </td><td>   1</td></tr>\n",
       "\t<tr><td>138 </td><td>   2</td></tr>\n",
       "\t<tr><td>140 </td><td>   2</td></tr>\n",
       "\t<tr><td>141 </td><td>   1</td></tr>\n",
       "\t<tr><td>142 </td><td>   2</td></tr>\n",
       "\t<tr><td>144 </td><td>   7</td></tr>\n",
       "\t<tr><td>147 </td><td>   3</td></tr>\n",
       "\t<tr><td>148 </td><td>   1</td></tr>\n",
       "\t<tr><td>152 </td><td>   1</td></tr>\n",
       "\t<tr><td>153 </td><td>   3</td></tr>\n",
       "\t<tr><td>...</td><td>...</td></tr>\n",
       "\t<tr><td>227</td><td>1  </td></tr>\n",
       "\t<tr><td>228</td><td>1  </td></tr>\n",
       "\t<tr><td>231</td><td>1  </td></tr>\n",
       "\t<tr><td>233</td><td>1  </td></tr>\n",
       "\t<tr><td>234</td><td>1  </td></tr>\n",
       "\t<tr><td>240</td><td>2  </td></tr>\n",
       "\t<tr><td>252</td><td>1  </td></tr>\n",
       "\t<tr><td>255</td><td>1  </td></tr>\n",
       "\t<tr><td>256</td><td>3  </td></tr>\n",
       "\t<tr><td>259</td><td>2  </td></tr>\n",
       "\t<tr><td>260</td><td>1  </td></tr>\n",
       "\t<tr><td>263</td><td>1  </td></tr>\n",
       "\t<tr><td>265</td><td>1  </td></tr>\n",
       "\t<tr><td>266</td><td>1  </td></tr>\n",
       "\t<tr><td>270</td><td>1  </td></tr>\n",
       "\t<tr><td>273</td><td>1  </td></tr>\n",
       "\t<tr><td>280</td><td>1  </td></tr>\n",
       "\t<tr><td>287</td><td>1  </td></tr>\n",
       "\t<tr><td>288</td><td>3  </td></tr>\n",
       "\t<tr><td>291</td><td>1  </td></tr>\n",
       "\t<tr><td>312</td><td>1  </td></tr>\n",
       "\t<tr><td>342</td><td>1  </td></tr>\n",
       "\t<tr><td>348</td><td>1  </td></tr>\n",
       "\t<tr><td>374</td><td>1  </td></tr>\n",
       "\t<tr><td>396</td><td>1  </td></tr>\n",
       "\t<tr><td>410</td><td>1  </td></tr>\n",
       "\t<tr><td>440</td><td>1  </td></tr>\n",
       "\t<tr><td>480</td><td>1  </td></tr>\n",
       "\t<tr><td>490</td><td>1  </td></tr>\n",
       "\t<tr><td>576</td><td>1  </td></tr>\n",
       "</tbody>\n",
       "</table>\n"
      ],
      "text/latex": [
       "\\begin{tabular}{r|ll}\n",
       " Screen.Porch & n\\\\\n",
       "\\hline\n",
       "\t   0  & 1876\\\\\n",
       "\t  40  &    1\\\\\n",
       "\t  88  &    1\\\\\n",
       "\t  90  &    2\\\\\n",
       "\t  92  &    1\\\\\n",
       "\t  99  &    1\\\\\n",
       "\t 100  &    3\\\\\n",
       "\t 108  &    1\\\\\n",
       "\t 109  &    1\\\\\n",
       "\t 110  &    2\\\\\n",
       "\t 111  &    1\\\\\n",
       "\t 112  &    3\\\\\n",
       "\t 113  &    1\\\\\n",
       "\t 115  &    3\\\\\n",
       "\t 117  &    1\\\\\n",
       "\t 120  &    7\\\\\n",
       "\t 121  &    1\\\\\n",
       "\t 122  &    1\\\\\n",
       "\t 126  &    4\\\\\n",
       "\t 128  &    1\\\\\n",
       "\t 135  &    1\\\\\n",
       "\t 138  &    2\\\\\n",
       "\t 140  &    2\\\\\n",
       "\t 141  &    1\\\\\n",
       "\t 142  &    2\\\\\n",
       "\t 144  &    7\\\\\n",
       "\t 147  &    3\\\\\n",
       "\t 148  &    1\\\\\n",
       "\t 152  &    1\\\\\n",
       "\t 153  &    3\\\\\n",
       "\t ... & ...\\\\\n",
       "\t 227 & 1  \\\\\n",
       "\t 228 & 1  \\\\\n",
       "\t 231 & 1  \\\\\n",
       "\t 233 & 1  \\\\\n",
       "\t 234 & 1  \\\\\n",
       "\t 240 & 2  \\\\\n",
       "\t 252 & 1  \\\\\n",
       "\t 255 & 1  \\\\\n",
       "\t 256 & 3  \\\\\n",
       "\t 259 & 2  \\\\\n",
       "\t 260 & 1  \\\\\n",
       "\t 263 & 1  \\\\\n",
       "\t 265 & 1  \\\\\n",
       "\t 266 & 1  \\\\\n",
       "\t 270 & 1  \\\\\n",
       "\t 273 & 1  \\\\\n",
       "\t 280 & 1  \\\\\n",
       "\t 287 & 1  \\\\\n",
       "\t 288 & 3  \\\\\n",
       "\t 291 & 1  \\\\\n",
       "\t 312 & 1  \\\\\n",
       "\t 342 & 1  \\\\\n",
       "\t 348 & 1  \\\\\n",
       "\t 374 & 1  \\\\\n",
       "\t 396 & 1  \\\\\n",
       "\t 410 & 1  \\\\\n",
       "\t 440 & 1  \\\\\n",
       "\t 480 & 1  \\\\\n",
       "\t 490 & 1  \\\\\n",
       "\t 576 & 1  \\\\\n",
       "\\end{tabular}\n"
      ],
      "text/markdown": [
       "\n",
       "Screen.Porch | n | \n",
       "|---|---|---|---|---|---|---|---|---|---|---|---|---|---|---|---|---|---|---|---|---|---|---|---|---|---|---|---|---|---|---|---|---|---|---|---|---|---|---|---|---|---|---|---|---|---|---|---|---|---|---|---|---|---|---|---|---|---|---|---|---|\n",
       "|   0  | 1876 | \n",
       "|  40  |    1 | \n",
       "|  88  |    1 | \n",
       "|  90  |    2 | \n",
       "|  92  |    1 | \n",
       "|  99  |    1 | \n",
       "| 100  |    3 | \n",
       "| 108  |    1 | \n",
       "| 109  |    1 | \n",
       "| 110  |    2 | \n",
       "| 111  |    1 | \n",
       "| 112  |    3 | \n",
       "| 113  |    1 | \n",
       "| 115  |    3 | \n",
       "| 117  |    1 | \n",
       "| 120  |    7 | \n",
       "| 121  |    1 | \n",
       "| 122  |    1 | \n",
       "| 126  |    4 | \n",
       "| 128  |    1 | \n",
       "| 135  |    1 | \n",
       "| 138  |    2 | \n",
       "| 140  |    2 | \n",
       "| 141  |    1 | \n",
       "| 142  |    2 | \n",
       "| 144  |    7 | \n",
       "| 147  |    3 | \n",
       "| 148  |    1 | \n",
       "| 152  |    1 | \n",
       "| 153  |    3 | \n",
       "| ... | ... | \n",
       "| 227 | 1   | \n",
       "| 228 | 1   | \n",
       "| 231 | 1   | \n",
       "| 233 | 1   | \n",
       "| 234 | 1   | \n",
       "| 240 | 2   | \n",
       "| 252 | 1   | \n",
       "| 255 | 1   | \n",
       "| 256 | 3   | \n",
       "| 259 | 2   | \n",
       "| 260 | 1   | \n",
       "| 263 | 1   | \n",
       "| 265 | 1   | \n",
       "| 266 | 1   | \n",
       "| 270 | 1   | \n",
       "| 273 | 1   | \n",
       "| 280 | 1   | \n",
       "| 287 | 1   | \n",
       "| 288 | 3   | \n",
       "| 291 | 1   | \n",
       "| 312 | 1   | \n",
       "| 342 | 1   | \n",
       "| 348 | 1   | \n",
       "| 374 | 1   | \n",
       "| 396 | 1   | \n",
       "| 410 | 1   | \n",
       "| 440 | 1   | \n",
       "| 480 | 1   | \n",
       "| 490 | 1   | \n",
       "| 576 | 1   | \n",
       "\n",
       "\n"
      ],
      "text/plain": [
       "    Screen.Porch n   \n",
       "1     0          1876\n",
       "2    40             1\n",
       "3    88             1\n",
       "4    90             2\n",
       "5    92             1\n",
       "6    99             1\n",
       "7   100             3\n",
       "8   108             1\n",
       "9   109             1\n",
       "10  110             2\n",
       "11  111             1\n",
       "12  112             3\n",
       "13  113             1\n",
       "14  115             3\n",
       "15  117             1\n",
       "16  120             7\n",
       "17  121             1\n",
       "18  122             1\n",
       "19  126             4\n",
       "20  128             1\n",
       "21  135             1\n",
       "22  138             2\n",
       "23  140             2\n",
       "24  141             1\n",
       "25  142             2\n",
       "26  144             7\n",
       "27  147             3\n",
       "28  148             1\n",
       "29  152             1\n",
       "30  153             3\n",
       "... ...          ... \n",
       "68  227          1   \n",
       "69  228          1   \n",
       "70  231          1   \n",
       "71  233          1   \n",
       "72  234          1   \n",
       "73  240          2   \n",
       "74  252          1   \n",
       "75  255          1   \n",
       "76  256          3   \n",
       "77  259          2   \n",
       "78  260          1   \n",
       "79  263          1   \n",
       "80  265          1   \n",
       "81  266          1   \n",
       "82  270          1   \n",
       "83  273          1   \n",
       "84  280          1   \n",
       "85  287          1   \n",
       "86  288          3   \n",
       "87  291          1   \n",
       "88  312          1   \n",
       "89  342          1   \n",
       "90  348          1   \n",
       "91  374          1   \n",
       "92  396          1   \n",
       "93  410          1   \n",
       "94  440          1   \n",
       "95  480          1   \n",
       "96  490          1   \n",
       "97  576          1   "
      ]
     },
     "metadata": {},
     "output_type": "display_data"
    }
   ],
   "source": [
    "count(H_train, Screen.Porch) %>% arrange(Screen.Porch)"
   ]
  },
  {
   "cell_type": "markdown",
   "metadata": {},
   "source": [
    "A veces podemos beneficiarnos de colapsar en un número menor de categorías, este tipo de variables, En los ejemplos anteriores, es posible que queramos colapsar todos los niveles que se observan en menos del 10% de la muestra de entrenamiento en una categoría de \"otros\". Podemos usar `step_other()`."
   ]
  },
  {
   "cell_type": "code",
   "execution_count": 51,
   "metadata": {},
   "outputs": [
    {
     "data": {
      "text/html": [
       "<table>\n",
       "<thead><tr><th scope=col>Neighborhood</th><th scope=col>n</th></tr></thead>\n",
       "<tbody>\n",
       "\t<tr><td>MeadowV</td><td> 30    </td></tr>\n",
       "\t<tr><td>ClearCr</td><td> 34    </td></tr>\n",
       "\t<tr><td>StoneBr</td><td> 38    </td></tr>\n",
       "\t<tr><td>SWISU  </td><td> 42    </td></tr>\n",
       "\t<tr><td>Timber </td><td> 48    </td></tr>\n",
       "\t<tr><td>NoRidge</td><td> 51    </td></tr>\n",
       "\t<tr><td>IDOTRR </td><td> 65    </td></tr>\n",
       "\t<tr><td>Crawfor</td><td> 74    </td></tr>\n",
       "\t<tr><td>Mitchel</td><td> 78    </td></tr>\n",
       "\t<tr><td>BrkSide</td><td> 82    </td></tr>\n",
       "\t<tr><td>SawyerW</td><td> 85    </td></tr>\n",
       "\t<tr><td>other  </td><td> 85    </td></tr>\n",
       "\t<tr><td>NWAmes </td><td> 93    </td></tr>\n",
       "\t<tr><td>Sawyer </td><td> 94    </td></tr>\n",
       "\t<tr><td>Gilbert</td><td>108    </td></tr>\n",
       "\t<tr><td>NridgHt</td><td>117    </td></tr>\n",
       "\t<tr><td>Somerst</td><td>124    </td></tr>\n",
       "\t<tr><td>Edwards</td><td>132    </td></tr>\n",
       "\t<tr><td>OldTown</td><td>171    </td></tr>\n",
       "\t<tr><td>CollgCr</td><td>187    </td></tr>\n",
       "\t<tr><td>NAmes  </td><td>315    </td></tr>\n",
       "</tbody>\n",
       "</table>\n"
      ],
      "text/latex": [
       "\\begin{tabular}{r|ll}\n",
       " Neighborhood & n\\\\\n",
       "\\hline\n",
       "\t MeadowV &  30    \\\\\n",
       "\t ClearCr &  34    \\\\\n",
       "\t StoneBr &  38    \\\\\n",
       "\t SWISU   &  42    \\\\\n",
       "\t Timber  &  48    \\\\\n",
       "\t NoRidge &  51    \\\\\n",
       "\t IDOTRR  &  65    \\\\\n",
       "\t Crawfor &  74    \\\\\n",
       "\t Mitchel &  78    \\\\\n",
       "\t BrkSide &  82    \\\\\n",
       "\t SawyerW &  85    \\\\\n",
       "\t other   &  85    \\\\\n",
       "\t NWAmes  &  93    \\\\\n",
       "\t Sawyer  &  94    \\\\\n",
       "\t Gilbert & 108    \\\\\n",
       "\t NridgHt & 117    \\\\\n",
       "\t Somerst & 124    \\\\\n",
       "\t Edwards & 132    \\\\\n",
       "\t OldTown & 171    \\\\\n",
       "\t CollgCr & 187    \\\\\n",
       "\t NAmes   & 315    \\\\\n",
       "\\end{tabular}\n"
      ],
      "text/markdown": [
       "\n",
       "Neighborhood | n | \n",
       "|---|---|---|---|---|---|---|---|---|---|---|---|---|---|---|---|---|---|---|---|---|\n",
       "| MeadowV |  30     | \n",
       "| ClearCr |  34     | \n",
       "| StoneBr |  38     | \n",
       "| SWISU   |  42     | \n",
       "| Timber  |  48     | \n",
       "| NoRidge |  51     | \n",
       "| IDOTRR  |  65     | \n",
       "| Crawfor |  74     | \n",
       "| Mitchel |  78     | \n",
       "| BrkSide |  82     | \n",
       "| SawyerW |  85     | \n",
       "| other   |  85     | \n",
       "| NWAmes  |  93     | \n",
       "| Sawyer  |  94     | \n",
       "| Gilbert | 108     | \n",
       "| NridgHt | 117     | \n",
       "| Somerst | 124     | \n",
       "| Edwards | 132     | \n",
       "| OldTown | 171     | \n",
       "| CollgCr | 187     | \n",
       "| NAmes   | 315     | \n",
       "\n",
       "\n"
      ],
      "text/plain": [
       "   Neighborhood n  \n",
       "1  MeadowV       30\n",
       "2  ClearCr       34\n",
       "3  StoneBr       38\n",
       "4  SWISU         42\n",
       "5  Timber        48\n",
       "6  NoRidge       51\n",
       "7  IDOTRR        65\n",
       "8  Crawfor       74\n",
       "9  Mitchel       78\n",
       "10 BrkSide       82\n",
       "11 SawyerW       85\n",
       "12 other         85\n",
       "13 NWAmes        93\n",
       "14 Sawyer        94\n",
       "15 Gilbert      108\n",
       "16 NridgHt      117\n",
       "17 Somerst      124\n",
       "18 Edwards      132\n",
       "19 OldTown      171\n",
       "20 CollgCr      187\n",
       "21 NAmes        315"
      ]
     },
     "metadata": {},
     "output_type": "display_data"
    },
    {
     "data": {
      "text/html": [
       "<table>\n",
       "<thead><tr><th scope=col>Screen.Porch</th><th scope=col>n</th></tr></thead>\n",
       "<tbody>\n",
       "\t<tr><td>&gt;0</td><td> 177 </td></tr>\n",
       "\t<tr><td>0   </td><td>1876</td></tr>\n",
       "</tbody>\n",
       "</table>\n"
      ],
      "text/latex": [
       "\\begin{tabular}{r|ll}\n",
       " Screen.Porch & n\\\\\n",
       "\\hline\n",
       "\t >0   &  177\\\\\n",
       "\t 0    & 1876\\\\\n",
       "\\end{tabular}\n"
      ],
      "text/markdown": [
       "\n",
       "Screen.Porch | n | \n",
       "|---|---|\n",
       "| >0   |  177 | \n",
       "| 0    | 1876 | \n",
       "\n",
       "\n"
      ],
      "text/plain": [
       "  Screen.Porch n   \n",
       "1 >0            177\n",
       "2 0            1876"
      ]
     },
     "metadata": {},
     "output_type": "display_data"
    }
   ],
   "source": [
    "# lump levels for two features\n",
    "lumping <- recipe(SalePrice ~ ., data = H_train) %>%\n",
    "  step_other(Neighborhood, threshold = .01, other = \"other\") %>%\n",
    "   step_other(Screen.Porch, threshold = .1, other = \">0\")\n",
    "\n",
    "# apply this blue print --> you will learn about this at the end of the chapter\n",
    "apply_2_training <- prep(lumping, training = H_train) %>%\n",
    "  bake(H_train)\n",
    "\n",
    "# new distribution of Neighborhood\n",
    "count(apply_2_training, Neighborhood) %>% arrange(n)\n",
    "\n",
    "# new distribution of Screen_Porch\n",
    "count(apply_2_training, Screen.Porch) %>% arrange(n)\n"
   ]
  },
  {
   "cell_type": "markdown",
   "metadata": {},
   "source": [
    "# Variables indicadoras (One-Hot encoding)\n",
    "\n",
    "Muchos modelos requieren que todas las variables predictoras sean numéricas. En consecuencia, necesitamos transformar  cualquier variable categórica en representaciones numéricas para que estos algoritmos puedan funcionar.\n",
    "\n",
    "Podemos codificar con la función `step_dummy()`\n"
   ]
  },
  {
   "cell_type": "code",
   "execution_count": 55,
   "metadata": {},
   "outputs": [
    {
     "data": {
      "text/plain": [
       "Data Recipe\n",
       "\n",
       "Inputs:\n",
       "\n",
       "      role #variables\n",
       "   outcome          1\n",
       " predictor         81\n",
       "\n",
       "Steps:\n",
       "\n",
       "Dummy variables from all_nominal(), TRUE"
      ]
     },
     "metadata": {},
     "output_type": "display_data"
    }
   ],
   "source": [
    "recipe(SalePrice ~ ., data = H_train) %>%\n",
    "  step_dummy(all_nominal(), one_hot = TRUE)"
   ]
  },
  {
   "cell_type": "markdown",
   "metadata": {},
   "source": [
    "Un problema con esta codificación es que aumentará el tamaño de nuestro set de datos de forma exponencial...\n",
    "\n",
    "También debemos tener cuidado con la codificación de características categóricas desordenadas porque la mayoría de los modelos las tratarán como características numéricas ordenadas. \n",
    "\n",
    "Si una característica categórica es ordenada, la codificación de etiquetas es una opción natural (más comúnmente conocida como codificación ordinal).\n",
    "\n",
    "# Reducción de dimensionalidad\n",
    "\n",
    "La reducción de dimensiones es un enfoque alternativo para filtrar características no informativas sin eliminarlas manualmente.\n",
    "\n",
    "Es relativamente común incluir este tipo de enfoques de reducción de dimensiones durante el proceso de ingeniería de características. \n",
    "\n",
    "Por ejemplo, podemos desear reducir la dimensión de nuestras características con el análisis de componentes principales y retener el número de componentes necesarios para explicar, digamos, el 95% de la varianza y usar estos componentes como características en el modelado posterior."
   ]
  },
  {
   "cell_type": "code",
   "execution_count": 60,
   "metadata": {},
   "outputs": [
    {
     "data": {
      "text/plain": [
       "Data Recipe\n",
       "\n",
       "Inputs:\n",
       "\n",
       "      role #variables\n",
       "   outcome          1\n",
       " predictor         81\n",
       "\n",
       "Steps:\n",
       "\n",
       "Centering for all_numeric()\n",
       "Scaling for all_numeric()\n",
       "PCA extraction with all_numeric()"
      ]
     },
     "metadata": {},
     "output_type": "display_data"
    }
   ],
   "source": [
    "recipe(SalePrice ~ ., data = H_train) %>%\n",
    "  step_center(all_numeric()) %>%\n",
    "  step_scale(all_numeric()) %>%\n",
    "  step_pca(all_numeric(), threshold = .95)"
   ]
  },
  {
   "cell_type": "markdown",
   "metadata": {},
   "source": [
    "<H1><center>Implementación completa</center></H1>\n",
    "\n",
    "Habiamos dicho que en vez de hacer cosa por cosa, queríamos generar un plan, que se pueda aplicar de forma eficiente. \n",
    "\n",
    "Esto nos ayudará de dos formas:\n",
    "\n",
    "* Pensar de forma secuencial\n",
    "* Poder aplicarlo **dentro** del proceso de re-sampleo y evitar la *fuga de datos*\n",
    "\n",
    "\n",
    "# Fuga de datos - *Data Leakage*\n",
    "\n",
    "\n",
    "La fuga de datos es cuando se utiliza información externa al conjunto de datos de entrenamiento para crear el modelo. \n",
    "\n",
    "La fuga de datos a menudo ocurre durante el período de **preprocesamiento de datos**.\n",
    "\n",
    "Para minimizar esto, la ingeniería de características debe hacerse de forma aislada de cada iteración de remuestreo.\n",
    "\n",
    "El remuestreo nos permitirça estimar el **error de predicción generalizable**. \n",
    "\n",
    "Por lo tanto, debemos aplicar nuestro plan de ingeniería de características a cada remuestreo de forma independiente.\n",
    "\n",
    "![leak](https://bradleyboehmke.github.io/HOML/images/minimize-leakage.png)\n",
    "\n",
    "**Por ejemplo** al estandarizar las características numéricas, cada información de entrenamiento muestreada debe usar sus propias estimaciones de media y varianza y estos valores específicos deben aplicarse al mismo conjunto de prueba remuestreado. \n",
    "\n",
    "Esto imita cómo se produce la predicción en la vida real cuando solo conocemos las estimaciones de media y varianza de nuestros datos actuales.\n",
    "\n",
    "# RECETA COMPLETA:"
   ]
  },
  {
   "cell_type": "code",
   "execution_count": 90,
   "metadata": {},
   "outputs": [],
   "source": [
    "H_no_random <- H %>%\n",
    "    dplyr::select(c(-Order,-PID,-Alley,-Pool.QC,-Fence,-Misc.Feature,-MS.SubClass))"
   ]
  },
  {
   "cell_type": "code",
   "execution_count": 91,
   "metadata": {},
   "outputs": [],
   "source": [
    "set.seed(123)\n",
    "index <- createDataPartition(H_no_random$SalePrice, p = 0.7, list = FALSE)\n",
    "H_train <- as.tibble(H_no_random[index,])\n",
    "H_test <- as.tibble(H_no_random[-index,])"
   ]
  },
  {
   "cell_type": "code",
   "execution_count": 92,
   "metadata": {},
   "outputs": [
    {
     "data": {
      "text/plain": [
       "Data Recipe\n",
       "\n",
       "Inputs:\n",
       "\n",
       "      role #variables\n",
       "   outcome          1\n",
       " predictor         74\n",
       "\n",
       "Steps:\n",
       "\n",
       "Sparse, unbalanced variable filter on all_nominal()\n",
       "5-nearest neighbor imputation for all_predictors(), 6\n",
       "Centering for all_numeric(), -all_outcomes()\n",
       "Scaling for all_numeric(), -all_outcomes()"
      ]
     },
     "metadata": {},
     "output_type": "display_data"
    }
   ],
   "source": [
    "receta <- recipe(SalePrice ~ ., data = H_train) %>%\n",
    "        step_nzv(all_nominal()) %>%\n",
    "        step_knnimpute(all_predictors(), neighbors = 6) %>% # inputación\n",
    "        step_center(all_numeric(), -all_outcomes()) %>% \n",
    "        step_scale(all_numeric(), -all_outcomes())  #normalización, estandarización y escalado\n",
    "receta"
   ]
  },
  {
   "cell_type": "code",
   "execution_count": 93,
   "metadata": {},
   "outputs": [],
   "source": [
    "preparado <- prep(receta, training = H_train)"
   ]
  },
  {
   "cell_type": "code",
   "execution_count": 94,
   "metadata": {
    "scrolled": true
   },
   "outputs": [
    {
     "data": {
      "text/html": [
       "<table>\n",
       "<thead><tr><th scope=col>MS.Zoning</th><th scope=col>Lot.Frontage</th><th scope=col>Lot.Area</th><th scope=col>Lot.Shape</th><th scope=col>Lot.Config</th><th scope=col>Neighborhood</th><th scope=col>Condition.1</th><th scope=col>Bldg.Type</th><th scope=col>House.Style</th><th scope=col>Overall.Qual</th><th scope=col>...</th><th scope=col>Enclosed.Porch</th><th scope=col>X3Ssn.Porch</th><th scope=col>Screen.Porch</th><th scope=col>Pool.Area</th><th scope=col>Misc.Val</th><th scope=col>Mo.Sold</th><th scope=col>Yr.Sold</th><th scope=col>Sale.Type</th><th scope=col>Sale.Condition</th><th scope=col>SalePrice</th></tr></thead>\n",
       "<tbody>\n",
       "\t<tr><td>RL         </td><td>3.1210598  </td><td> 2.48080779</td><td>IR1        </td><td>Corner     </td><td>NAmes      </td><td>Norm       </td><td>1Fam       </td><td>1Story     </td><td>-0.05180742</td><td>...        </td><td>-0.3729175 </td><td>-0.1014104 </td><td>-0.2827562 </td><td>-0.06646233</td><td>-0.105698  </td><td>-0.4534720 </td><td>1.677542   </td><td>WD         </td><td>Normal     </td><td>215000     </td></tr>\n",
       "\t<tr><td>RH         </td><td>0.4604397  </td><td> 0.16883048</td><td>Reg        </td><td>Inside     </td><td>NAmes      </td><td>Feedr      </td><td>1Fam       </td><td>1Story     </td><td>-0.75618251</td><td>...        </td><td>-0.3729175 </td><td>-0.1014104 </td><td> 1.8023675 </td><td>-0.06646233</td><td>-0.105698  </td><td>-0.0872336 </td><td>1.677542   </td><td>WD         </td><td>Normal     </td><td>105000     </td></tr>\n",
       "\t<tr><td>RL         </td><td>0.5040564  </td><td> 0.47234349</td><td>IR1        </td><td>Corner     </td><td>NAmes      </td><td>Norm       </td><td>1Fam       </td><td>1Story     </td><td>-0.05180742</td><td>...        </td><td>-0.3729175 </td><td>-0.1014104 </td><td>-0.2827562 </td><td>-0.06646233</td><td>31.237544  </td><td>-0.0872336 </td><td>1.677542   </td><td>WD         </td><td>Normal     </td><td>172000     </td></tr>\n",
       "\t<tr><td>RL         </td><td>1.0274571  </td><td> 0.11581611</td><td>Reg        </td><td>Corner     </td><td>NAmes      </td><td>Norm       </td><td>1Fam       </td><td>1Story     </td><td> 0.65256767</td><td>...        </td><td>-0.3729175 </td><td>-0.1014104 </td><td>-0.2827562 </td><td>-0.06646233</td><td>-0.105698  </td><td>-0.8197104 </td><td>1.677542   </td><td>WD         </td><td>Normal     </td><td>244000     </td></tr>\n",
       "\t<tr><td>RL         </td><td>0.1987394  </td><td> 0.42219786</td><td>IR1        </td><td>Inside     </td><td>Gilbert    </td><td>Norm       </td><td>1Fam       </td><td>2Story     </td><td>-0.75618251</td><td>...        </td><td>-0.3729175 </td><td>-0.1014104 </td><td>-0.2827562 </td><td>-0.06646233</td><td>-0.105698  </td><td>-1.1859488 </td><td>1.677542   </td><td>WD         </td><td>Normal     </td><td>189900     </td></tr>\n",
       "\t<tr><td>RL         </td><td>0.3732063  </td><td>-0.01981805</td><td>IR1        </td><td>Inside     </td><td>Gilbert    </td><td>Norm       </td><td>1Fam       </td><td>2Story     </td><td>-0.05180742</td><td>...        </td><td>-0.3729175 </td><td>-0.1014104 </td><td>-0.2827562 </td><td>-0.06646233</td><td>-0.105698  </td><td>-0.0872336 </td><td>1.677542   </td><td>WD         </td><td>Normal     </td><td>195500     </td></tr>\n",
       "</tbody>\n",
       "</table>\n"
      ],
      "text/latex": [
       "\\begin{tabular}{r|lllllllllllllllllllllllllllllllllllllllllllllllllllllllllllllll}\n",
       " MS.Zoning & Lot.Frontage & Lot.Area & Lot.Shape & Lot.Config & Neighborhood & Condition.1 & Bldg.Type & House.Style & Overall.Qual & ... & Enclosed.Porch & X3Ssn.Porch & Screen.Porch & Pool.Area & Misc.Val & Mo.Sold & Yr.Sold & Sale.Type & Sale.Condition & SalePrice\\\\\n",
       "\\hline\n",
       "\t RL          & 3.1210598   &  2.48080779 & IR1         & Corner      & NAmes       & Norm        & 1Fam        & 1Story      & -0.05180742 & ...         & -0.3729175  & -0.1014104  & -0.2827562  & -0.06646233 & -0.105698   & -0.4534720  & 1.677542    & WD          & Normal      & 215000     \\\\\n",
       "\t RH          & 0.4604397   &  0.16883048 & Reg         & Inside      & NAmes       & Feedr       & 1Fam        & 1Story      & -0.75618251 & ...         & -0.3729175  & -0.1014104  &  1.8023675  & -0.06646233 & -0.105698   & -0.0872336  & 1.677542    & WD          & Normal      & 105000     \\\\\n",
       "\t RL          & 0.5040564   &  0.47234349 & IR1         & Corner      & NAmes       & Norm        & 1Fam        & 1Story      & -0.05180742 & ...         & -0.3729175  & -0.1014104  & -0.2827562  & -0.06646233 & 31.237544   & -0.0872336  & 1.677542    & WD          & Normal      & 172000     \\\\\n",
       "\t RL          & 1.0274571   &  0.11581611 & Reg         & Corner      & NAmes       & Norm        & 1Fam        & 1Story      &  0.65256767 & ...         & -0.3729175  & -0.1014104  & -0.2827562  & -0.06646233 & -0.105698   & -0.8197104  & 1.677542    & WD          & Normal      & 244000     \\\\\n",
       "\t RL          & 0.1987394   &  0.42219786 & IR1         & Inside      & Gilbert     & Norm        & 1Fam        & 2Story      & -0.75618251 & ...         & -0.3729175  & -0.1014104  & -0.2827562  & -0.06646233 & -0.105698   & -1.1859488  & 1.677542    & WD          & Normal      & 189900     \\\\\n",
       "\t RL          & 0.3732063   & -0.01981805 & IR1         & Inside      & Gilbert     & Norm        & 1Fam        & 2Story      & -0.05180742 & ...         & -0.3729175  & -0.1014104  & -0.2827562  & -0.06646233 & -0.105698   & -0.0872336  & 1.677542    & WD          & Normal      & 195500     \\\\\n",
       "\\end{tabular}\n"
      ],
      "text/markdown": [
       "\n",
       "MS.Zoning | Lot.Frontage | Lot.Area | Lot.Shape | Lot.Config | Neighborhood | Condition.1 | Bldg.Type | House.Style | Overall.Qual | ... | Enclosed.Porch | X3Ssn.Porch | Screen.Porch | Pool.Area | Misc.Val | Mo.Sold | Yr.Sold | Sale.Type | Sale.Condition | SalePrice | \n",
       "|---|---|---|---|---|---|\n",
       "| RL          | 3.1210598   |  2.48080779 | IR1         | Corner      | NAmes       | Norm        | 1Fam        | 1Story      | -0.05180742 | ...         | -0.3729175  | -0.1014104  | -0.2827562  | -0.06646233 | -0.105698   | -0.4534720  | 1.677542    | WD          | Normal      | 215000      | \n",
       "| RH          | 0.4604397   |  0.16883048 | Reg         | Inside      | NAmes       | Feedr       | 1Fam        | 1Story      | -0.75618251 | ...         | -0.3729175  | -0.1014104  |  1.8023675  | -0.06646233 | -0.105698   | -0.0872336  | 1.677542    | WD          | Normal      | 105000      | \n",
       "| RL          | 0.5040564   |  0.47234349 | IR1         | Corner      | NAmes       | Norm        | 1Fam        | 1Story      | -0.05180742 | ...         | -0.3729175  | -0.1014104  | -0.2827562  | -0.06646233 | 31.237544   | -0.0872336  | 1.677542    | WD          | Normal      | 172000      | \n",
       "| RL          | 1.0274571   |  0.11581611 | Reg         | Corner      | NAmes       | Norm        | 1Fam        | 1Story      |  0.65256767 | ...         | -0.3729175  | -0.1014104  | -0.2827562  | -0.06646233 | -0.105698   | -0.8197104  | 1.677542    | WD          | Normal      | 244000      | \n",
       "| RL          | 0.1987394   |  0.42219786 | IR1         | Inside      | Gilbert     | Norm        | 1Fam        | 2Story      | -0.75618251 | ...         | -0.3729175  | -0.1014104  | -0.2827562  | -0.06646233 | -0.105698   | -1.1859488  | 1.677542    | WD          | Normal      | 189900      | \n",
       "| RL          | 0.3732063   | -0.01981805 | IR1         | Inside      | Gilbert     | Norm        | 1Fam        | 2Story      | -0.05180742 | ...         | -0.3729175  | -0.1014104  | -0.2827562  | -0.06646233 | -0.105698   | -0.0872336  | 1.677542    | WD          | Normal      | 195500      | \n",
       "\n",
       "\n"
      ],
      "text/plain": [
       "  MS.Zoning Lot.Frontage Lot.Area    Lot.Shape Lot.Config Neighborhood\n",
       "1 RL        3.1210598     2.48080779 IR1       Corner     NAmes       \n",
       "2 RH        0.4604397     0.16883048 Reg       Inside     NAmes       \n",
       "3 RL        0.5040564     0.47234349 IR1       Corner     NAmes       \n",
       "4 RL        1.0274571     0.11581611 Reg       Corner     NAmes       \n",
       "5 RL        0.1987394     0.42219786 IR1       Inside     Gilbert     \n",
       "6 RL        0.3732063    -0.01981805 IR1       Inside     Gilbert     \n",
       "  Condition.1 Bldg.Type House.Style Overall.Qual ... Enclosed.Porch X3Ssn.Porch\n",
       "1 Norm        1Fam      1Story      -0.05180742  ... -0.3729175     -0.1014104 \n",
       "2 Feedr       1Fam      1Story      -0.75618251  ... -0.3729175     -0.1014104 \n",
       "3 Norm        1Fam      1Story      -0.05180742  ... -0.3729175     -0.1014104 \n",
       "4 Norm        1Fam      1Story       0.65256767  ... -0.3729175     -0.1014104 \n",
       "5 Norm        1Fam      2Story      -0.75618251  ... -0.3729175     -0.1014104 \n",
       "6 Norm        1Fam      2Story      -0.05180742  ... -0.3729175     -0.1014104 \n",
       "  Screen.Porch Pool.Area   Misc.Val  Mo.Sold    Yr.Sold  Sale.Type\n",
       "1 -0.2827562   -0.06646233 -0.105698 -0.4534720 1.677542 WD       \n",
       "2  1.8023675   -0.06646233 -0.105698 -0.0872336 1.677542 WD       \n",
       "3 -0.2827562   -0.06646233 31.237544 -0.0872336 1.677542 WD       \n",
       "4 -0.2827562   -0.06646233 -0.105698 -0.8197104 1.677542 WD       \n",
       "5 -0.2827562   -0.06646233 -0.105698 -1.1859488 1.677542 WD       \n",
       "6 -0.2827562   -0.06646233 -0.105698 -0.0872336 1.677542 WD       \n",
       "  Sale.Condition SalePrice\n",
       "1 Normal         215000   \n",
       "2 Normal         105000   \n",
       "3 Normal         172000   \n",
       "4 Normal         244000   \n",
       "5 Normal         189900   \n",
       "6 Normal         195500   "
      ]
     },
     "metadata": {},
     "output_type": "display_data"
    },
    {
     "data": {
      "text/html": [
       "<ol class=list-inline>\n",
       "\t<li>2053</li>\n",
       "\t<li>63</li>\n",
       "</ol>\n"
      ],
      "text/latex": [
       "\\begin{enumerate*}\n",
       "\\item 2053\n",
       "\\item 63\n",
       "\\end{enumerate*}\n"
      ],
      "text/markdown": [
       "1. 2053\n",
       "2. 63\n",
       "\n",
       "\n"
      ],
      "text/plain": [
       "[1] 2053   63"
      ]
     },
     "metadata": {},
     "output_type": "display_data"
    }
   ],
   "source": [
    "H_train <- bake(preparado, newdata = H_train)\n",
    "H_test <- bake(preparado, newdata = H_test)\n",
    "head(H_train)\n",
    "dim(H_train)"
   ]
  },
  {
   "cell_type": "code",
   "execution_count": 126,
   "metadata": {},
   "outputs": [
    {
     "data": {
      "text/html": [
       "<table>\n",
       "<thead><tr><th scope=col>MS.Zoning.A..agr.</th><th scope=col>MS.Zoning.C..all.</th><th scope=col>MS.Zoning.FV</th><th scope=col>MS.Zoning.I..all.</th><th scope=col>MS.Zoning.RH</th><th scope=col>MS.Zoning.RL</th><th scope=col>MS.Zoning.RM</th><th scope=col>Lot.Frontage</th><th scope=col>Lot.Area</th><th scope=col>Lot.Shape.IR1</th><th scope=col>...</th><th scope=col>Sale.Type.Oth</th><th scope=col>Sale.Type.VWD</th><th scope=col>Sale.Type.WD.</th><th scope=col>Sale.Condition.Abnorml</th><th scope=col>Sale.Condition.AdjLand</th><th scope=col>Sale.Condition.Alloca</th><th scope=col>Sale.Condition.Family</th><th scope=col>Sale.Condition.Normal</th><th scope=col>Sale.Condition.Partial</th><th scope=col>SalePrice</th></tr></thead>\n",
       "<tbody>\n",
       "\t<tr><td>0          </td><td>0          </td><td>0          </td><td>0          </td><td>0          </td><td>1          </td><td>0          </td><td>3.1210598  </td><td> 2.48080779</td><td>1          </td><td>...        </td><td>0          </td><td>0          </td><td>1          </td><td>0          </td><td>0          </td><td>0          </td><td>0          </td><td>1          </td><td>0          </td><td>215000     </td></tr>\n",
       "\t<tr><td>0          </td><td>0          </td><td>0          </td><td>0          </td><td>1          </td><td>0          </td><td>0          </td><td>0.4604397  </td><td> 0.16883048</td><td>0          </td><td>...        </td><td>0          </td><td>0          </td><td>1          </td><td>0          </td><td>0          </td><td>0          </td><td>0          </td><td>1          </td><td>0          </td><td>105000     </td></tr>\n",
       "\t<tr><td>0          </td><td>0          </td><td>0          </td><td>0          </td><td>0          </td><td>1          </td><td>0          </td><td>0.5040564  </td><td> 0.47234349</td><td>1          </td><td>...        </td><td>0          </td><td>0          </td><td>1          </td><td>0          </td><td>0          </td><td>0          </td><td>0          </td><td>1          </td><td>0          </td><td>172000     </td></tr>\n",
       "\t<tr><td>0          </td><td>0          </td><td>0          </td><td>0          </td><td>0          </td><td>1          </td><td>0          </td><td>1.0274571  </td><td> 0.11581611</td><td>0          </td><td>...        </td><td>0          </td><td>0          </td><td>1          </td><td>0          </td><td>0          </td><td>0          </td><td>0          </td><td>1          </td><td>0          </td><td>244000     </td></tr>\n",
       "\t<tr><td>0          </td><td>0          </td><td>0          </td><td>0          </td><td>0          </td><td>1          </td><td>0          </td><td>0.1987394  </td><td> 0.42219786</td><td>1          </td><td>...        </td><td>0          </td><td>0          </td><td>1          </td><td>0          </td><td>0          </td><td>0          </td><td>0          </td><td>1          </td><td>0          </td><td>189900     </td></tr>\n",
       "\t<tr><td>0          </td><td>0          </td><td>0          </td><td>0          </td><td>0          </td><td>1          </td><td>0          </td><td>0.3732063  </td><td>-0.01981805</td><td>1          </td><td>...        </td><td>0          </td><td>0          </td><td>1          </td><td>0          </td><td>0          </td><td>0          </td><td>0          </td><td>1          </td><td>0          </td><td>195500     </td></tr>\n",
       "</tbody>\n",
       "</table>\n"
      ],
      "text/latex": [
       "\\begin{tabular}{r|llllllllllllllllllllllllllllllllllllllllllllllllllllllllllllllllllllllllllllllllllllllllllllllllllllllllllllllllllllllllllllllllllllllllllllllllllllllllllllllllllllllllllllllllllllllllllllllllllllllllllllllllllllllllllllllllllllllll}\n",
       " MS.Zoning.A..agr. & MS.Zoning.C..all. & MS.Zoning.FV & MS.Zoning.I..all. & MS.Zoning.RH & MS.Zoning.RL & MS.Zoning.RM & Lot.Frontage & Lot.Area & Lot.Shape.IR1 & ... & Sale.Type.Oth & Sale.Type.VWD & Sale.Type.WD. & Sale.Condition.Abnorml & Sale.Condition.AdjLand & Sale.Condition.Alloca & Sale.Condition.Family & Sale.Condition.Normal & Sale.Condition.Partial & SalePrice\\\\\n",
       "\\hline\n",
       "\t 0           & 0           & 0           & 0           & 0           & 1           & 0           & 3.1210598   &  2.48080779 & 1           & ...         & 0           & 0           & 1           & 0           & 0           & 0           & 0           & 1           & 0           & 215000     \\\\\n",
       "\t 0           & 0           & 0           & 0           & 1           & 0           & 0           & 0.4604397   &  0.16883048 & 0           & ...         & 0           & 0           & 1           & 0           & 0           & 0           & 0           & 1           & 0           & 105000     \\\\\n",
       "\t 0           & 0           & 0           & 0           & 0           & 1           & 0           & 0.5040564   &  0.47234349 & 1           & ...         & 0           & 0           & 1           & 0           & 0           & 0           & 0           & 1           & 0           & 172000     \\\\\n",
       "\t 0           & 0           & 0           & 0           & 0           & 1           & 0           & 1.0274571   &  0.11581611 & 0           & ...         & 0           & 0           & 1           & 0           & 0           & 0           & 0           & 1           & 0           & 244000     \\\\\n",
       "\t 0           & 0           & 0           & 0           & 0           & 1           & 0           & 0.1987394   &  0.42219786 & 1           & ...         & 0           & 0           & 1           & 0           & 0           & 0           & 0           & 1           & 0           & 189900     \\\\\n",
       "\t 0           & 0           & 0           & 0           & 0           & 1           & 0           & 0.3732063   & -0.01981805 & 1           & ...         & 0           & 0           & 1           & 0           & 0           & 0           & 0           & 1           & 0           & 195500     \\\\\n",
       "\\end{tabular}\n"
      ],
      "text/markdown": [
       "\n",
       "MS.Zoning.A..agr. | MS.Zoning.C..all. | MS.Zoning.FV | MS.Zoning.I..all. | MS.Zoning.RH | MS.Zoning.RL | MS.Zoning.RM | Lot.Frontage | Lot.Area | Lot.Shape.IR1 | ... | Sale.Type.Oth | Sale.Type.VWD | Sale.Type.WD. | Sale.Condition.Abnorml | Sale.Condition.AdjLand | Sale.Condition.Alloca | Sale.Condition.Family | Sale.Condition.Normal | Sale.Condition.Partial | SalePrice | \n",
       "|---|---|---|---|---|---|\n",
       "| 0           | 0           | 0           | 0           | 0           | 1           | 0           | 3.1210598   |  2.48080779 | 1           | ...         | 0           | 0           | 1           | 0           | 0           | 0           | 0           | 1           | 0           | 215000      | \n",
       "| 0           | 0           | 0           | 0           | 1           | 0           | 0           | 0.4604397   |  0.16883048 | 0           | ...         | 0           | 0           | 1           | 0           | 0           | 0           | 0           | 1           | 0           | 105000      | \n",
       "| 0           | 0           | 0           | 0           | 0           | 1           | 0           | 0.5040564   |  0.47234349 | 1           | ...         | 0           | 0           | 1           | 0           | 0           | 0           | 0           | 1           | 0           | 172000      | \n",
       "| 0           | 0           | 0           | 0           | 0           | 1           | 0           | 1.0274571   |  0.11581611 | 0           | ...         | 0           | 0           | 1           | 0           | 0           | 0           | 0           | 1           | 0           | 244000      | \n",
       "| 0           | 0           | 0           | 0           | 0           | 1           | 0           | 0.1987394   |  0.42219786 | 1           | ...         | 0           | 0           | 1           | 0           | 0           | 0           | 0           | 1           | 0           | 189900      | \n",
       "| 0           | 0           | 0           | 0           | 0           | 1           | 0           | 0.3732063   | -0.01981805 | 1           | ...         | 0           | 0           | 1           | 0           | 0           | 0           | 0           | 1           | 0           | 195500      | \n",
       "\n",
       "\n"
      ],
      "text/plain": [
       "  MS.Zoning.A..agr. MS.Zoning.C..all. MS.Zoning.FV MS.Zoning.I..all.\n",
       "1 0                 0                 0            0                \n",
       "2 0                 0                 0            0                \n",
       "3 0                 0                 0            0                \n",
       "4 0                 0                 0            0                \n",
       "5 0                 0                 0            0                \n",
       "6 0                 0                 0            0                \n",
       "  MS.Zoning.RH MS.Zoning.RL MS.Zoning.RM Lot.Frontage Lot.Area    Lot.Shape.IR1\n",
       "1 0            1            0            3.1210598     2.48080779 1            \n",
       "2 1            0            0            0.4604397     0.16883048 0            \n",
       "3 0            1            0            0.5040564     0.47234349 1            \n",
       "4 0            1            0            1.0274571     0.11581611 0            \n",
       "5 0            1            0            0.1987394     0.42219786 1            \n",
       "6 0            1            0            0.3732063    -0.01981805 1            \n",
       "  ... Sale.Type.Oth Sale.Type.VWD Sale.Type.WD. Sale.Condition.Abnorml\n",
       "1 ... 0             0             1             0                     \n",
       "2 ... 0             0             1             0                     \n",
       "3 ... 0             0             1             0                     \n",
       "4 ... 0             0             1             0                     \n",
       "5 ... 0             0             1             0                     \n",
       "6 ... 0             0             1             0                     \n",
       "  Sale.Condition.AdjLand Sale.Condition.Alloca Sale.Condition.Family\n",
       "1 0                      0                     0                    \n",
       "2 0                      0                     0                    \n",
       "3 0                      0                     0                    \n",
       "4 0                      0                     0                    \n",
       "5 0                      0                     0                    \n",
       "6 0                      0                     0                    \n",
       "  Sale.Condition.Normal Sale.Condition.Partial SalePrice\n",
       "1 1                     0                      215000   \n",
       "2 1                     0                      105000   \n",
       "3 1                     0                      172000   \n",
       "4 1                     0                      244000   \n",
       "5 1                     0                      189900   \n",
       "6 1                     0                      195500   "
      ]
     },
     "metadata": {},
     "output_type": "display_data"
    }
   ],
   "source": [
    "dmy <- dummyVars(\" ~ .\", data = H_train)\n",
    "Htrain_clean <- na.omit(data.frame(predict(dmy, newdata = H_train)))\n",
    "Htest_clean <- na.omit(data.frame(predict(dmy, newdata = H_test)))\n",
    "head(Htrain_clean)\n"
   ]
  },
  {
   "cell_type": "code",
   "execution_count": 96,
   "metadata": {},
   "outputs": [
    {
     "data": {
      "text/html": [
       "<table>\n",
       "<thead><tr><th scope=col>MS.Zoning.A..agr.</th><th scope=col>MS.Zoning.C..all.</th><th scope=col>MS.Zoning.FV</th><th scope=col>MS.Zoning.I..all.</th><th scope=col>MS.Zoning.RH</th><th scope=col>MS.Zoning.RL</th><th scope=col>MS.Zoning.RM</th><th scope=col>Lot.Frontage</th><th scope=col>Lot.Area</th><th scope=col>Lot.Shape.IR1</th><th scope=col>...</th><th scope=col>Sale.Type.Oth</th><th scope=col>Sale.Type.VWD</th><th scope=col>Sale.Type.WD.</th><th scope=col>Sale.Condition.Abnorml</th><th scope=col>Sale.Condition.AdjLand</th><th scope=col>Sale.Condition.Alloca</th><th scope=col>Sale.Condition.Family</th><th scope=col>Sale.Condition.Normal</th><th scope=col>Sale.Condition.Partial</th><th scope=col>SalePrice</th></tr></thead>\n",
       "<tbody>\n",
       "\t<tr><td>0          </td><td>0          </td><td>0          </td><td>0          </td><td>0          </td><td>1          </td><td>0          </td><td>-1.1533790 </td><td>-0.59046840</td><td>1          </td><td>...        </td><td>0          </td><td>0          </td><td>1          </td><td>0          </td><td>0          </td><td>0          </td><td>0          </td><td>1          </td><td>0          </td><td>191500     </td></tr>\n",
       "\t<tr><td>0          </td><td>0          </td><td>0          </td><td>0          </td><td>0          </td><td>1          </td><td>0          </td><td> 0.2423561 </td><td>-0.01729356</td><td>1          </td><td>...        </td><td>0          </td><td>0          </td><td>1          </td><td>0          </td><td>0          </td><td>0          </td><td>0          </td><td>1          </td><td>0          </td><td>175900     </td></tr>\n",
       "\t<tr><td>0          </td><td>0          </td><td>0          </td><td>0          </td><td>0          </td><td>1          </td><td>0          </td><td>-0.2810446 </td><td>-0.20066361</td><td>1          </td><td>...        </td><td>0          </td><td>0          </td><td>1          </td><td>0          </td><td>0          </td><td>0          </td><td>0          </td><td>1          </td><td>0          </td><td>180400     </td></tr>\n",
       "\t<tr><td>0          </td><td>0          </td><td>0          </td><td>0          </td><td>0          </td><td>1          </td><td>0          </td><td> 3.6008438 </td><td> 0.22758234</td><td>1          </td><td>...        </td><td>0          </td><td>0          </td><td>1          </td><td>0          </td><td>0          </td><td>0          </td><td>0          </td><td>1          </td><td>0          </td><td>164000     </td></tr>\n",
       "\t<tr><td>0          </td><td>0          </td><td>0          </td><td>0          </td><td>0          </td><td>1          </td><td>0          </td><td> 0.8093735 </td><td> 0.14266755</td><td>0          </td><td>...        </td><td>0          </td><td>0          </td><td>0          </td><td>0          </td><td>0          </td><td>0          </td><td>0          </td><td>0          </td><td>1          </td><td>394432     </td></tr>\n",
       "\t<tr><td>0          </td><td>0          </td><td>0          </td><td>0          </td><td>0          </td><td>1          </td><td>0          </td><td>-0.1065777 </td><td> 0.27382647</td><td>1          </td><td>...        </td><td>0          </td><td>0          </td><td>1          </td><td>0          </td><td>0          </td><td>0          </td><td>0          </td><td>1          </td><td>0          </td><td>149900     </td></tr>\n",
       "</tbody>\n",
       "</table>\n"
      ],
      "text/latex": [
       "\\begin{tabular}{r|llllllllllllllllllllllllllllllllllllllllllllllllllllllllllllllllllllllllllllllllllllllllllllllllllllllllllllllllllllllllllllllllllllllllllllllllllllllllllllllllllllllllllllllllllllllllllllllllllllllllllllllllllllllllllllllllllllllll}\n",
       " MS.Zoning.A..agr. & MS.Zoning.C..all. & MS.Zoning.FV & MS.Zoning.I..all. & MS.Zoning.RH & MS.Zoning.RL & MS.Zoning.RM & Lot.Frontage & Lot.Area & Lot.Shape.IR1 & ... & Sale.Type.Oth & Sale.Type.VWD & Sale.Type.WD. & Sale.Condition.Abnorml & Sale.Condition.AdjLand & Sale.Condition.Alloca & Sale.Condition.Family & Sale.Condition.Normal & Sale.Condition.Partial & SalePrice\\\\\n",
       "\\hline\n",
       "\t 0           & 0           & 0           & 0           & 0           & 1           & 0           & -1.1533790  & -0.59046840 & 1           & ...         & 0           & 0           & 1           & 0           & 0           & 0           & 0           & 1           & 0           & 191500     \\\\\n",
       "\t 0           & 0           & 0           & 0           & 0           & 1           & 0           &  0.2423561  & -0.01729356 & 1           & ...         & 0           & 0           & 1           & 0           & 0           & 0           & 0           & 1           & 0           & 175900     \\\\\n",
       "\t 0           & 0           & 0           & 0           & 0           & 1           & 0           & -0.2810446  & -0.20066361 & 1           & ...         & 0           & 0           & 1           & 0           & 0           & 0           & 0           & 1           & 0           & 180400     \\\\\n",
       "\t 0           & 0           & 0           & 0           & 0           & 1           & 0           &  3.6008438  &  0.22758234 & 1           & ...         & 0           & 0           & 1           & 0           & 0           & 0           & 0           & 1           & 0           & 164000     \\\\\n",
       "\t 0           & 0           & 0           & 0           & 0           & 1           & 0           &  0.8093735  &  0.14266755 & 0           & ...         & 0           & 0           & 0           & 0           & 0           & 0           & 0           & 0           & 1           & 394432     \\\\\n",
       "\t 0           & 0           & 0           & 0           & 0           & 1           & 0           & -0.1065777  &  0.27382647 & 1           & ...         & 0           & 0           & 1           & 0           & 0           & 0           & 0           & 1           & 0           & 149900     \\\\\n",
       "\\end{tabular}\n"
      ],
      "text/markdown": [
       "\n",
       "MS.Zoning.A..agr. | MS.Zoning.C..all. | MS.Zoning.FV | MS.Zoning.I..all. | MS.Zoning.RH | MS.Zoning.RL | MS.Zoning.RM | Lot.Frontage | Lot.Area | Lot.Shape.IR1 | ... | Sale.Type.Oth | Sale.Type.VWD | Sale.Type.WD. | Sale.Condition.Abnorml | Sale.Condition.AdjLand | Sale.Condition.Alloca | Sale.Condition.Family | Sale.Condition.Normal | Sale.Condition.Partial | SalePrice | \n",
       "|---|---|---|---|---|---|\n",
       "| 0           | 0           | 0           | 0           | 0           | 1           | 0           | -1.1533790  | -0.59046840 | 1           | ...         | 0           | 0           | 1           | 0           | 0           | 0           | 0           | 1           | 0           | 191500      | \n",
       "| 0           | 0           | 0           | 0           | 0           | 1           | 0           |  0.2423561  | -0.01729356 | 1           | ...         | 0           | 0           | 1           | 0           | 0           | 0           | 0           | 1           | 0           | 175900      | \n",
       "| 0           | 0           | 0           | 0           | 0           | 1           | 0           | -0.2810446  | -0.20066361 | 1           | ...         | 0           | 0           | 1           | 0           | 0           | 0           | 0           | 1           | 0           | 180400      | \n",
       "| 0           | 0           | 0           | 0           | 0           | 1           | 0           |  3.6008438  |  0.22758234 | 1           | ...         | 0           | 0           | 1           | 0           | 0           | 0           | 0           | 1           | 0           | 164000      | \n",
       "| 0           | 0           | 0           | 0           | 0           | 1           | 0           |  0.8093735  |  0.14266755 | 0           | ...         | 0           | 0           | 0           | 0           | 0           | 0           | 0           | 0           | 1           | 394432      | \n",
       "| 0           | 0           | 0           | 0           | 0           | 1           | 0           | -0.1065777  |  0.27382647 | 1           | ...         | 0           | 0           | 1           | 0           | 0           | 0           | 0           | 1           | 0           | 149900      | \n",
       "\n",
       "\n"
      ],
      "text/plain": [
       "  MS.Zoning.A..agr. MS.Zoning.C..all. MS.Zoning.FV MS.Zoning.I..all.\n",
       "1 0                 0                 0            0                \n",
       "2 0                 0                 0            0                \n",
       "3 0                 0                 0            0                \n",
       "4 0                 0                 0            0                \n",
       "5 0                 0                 0            0                \n",
       "6 0                 0                 0            0                \n",
       "  MS.Zoning.RH MS.Zoning.RL MS.Zoning.RM Lot.Frontage Lot.Area    Lot.Shape.IR1\n",
       "1 0            1            0            -1.1533790   -0.59046840 1            \n",
       "2 0            1            0             0.2423561   -0.01729356 1            \n",
       "3 0            1            0            -0.2810446   -0.20066361 1            \n",
       "4 0            1            0             3.6008438    0.22758234 1            \n",
       "5 0            1            0             0.8093735    0.14266755 0            \n",
       "6 0            1            0            -0.1065777    0.27382647 1            \n",
       "  ... Sale.Type.Oth Sale.Type.VWD Sale.Type.WD. Sale.Condition.Abnorml\n",
       "1 ... 0             0             1             0                     \n",
       "2 ... 0             0             1             0                     \n",
       "3 ... 0             0             1             0                     \n",
       "4 ... 0             0             1             0                     \n",
       "5 ... 0             0             0             0                     \n",
       "6 ... 0             0             1             0                     \n",
       "  Sale.Condition.AdjLand Sale.Condition.Alloca Sale.Condition.Family\n",
       "1 0                      0                     0                    \n",
       "2 0                      0                     0                    \n",
       "3 0                      0                     0                    \n",
       "4 0                      0                     0                    \n",
       "5 0                      0                     0                    \n",
       "6 0                      0                     0                    \n",
       "  Sale.Condition.Normal Sale.Condition.Partial SalePrice\n",
       "1 1                     0                      191500   \n",
       "2 1                     0                      175900   \n",
       "3 1                     0                      180400   \n",
       "4 1                     0                      164000   \n",
       "5 0                     1                      394432   \n",
       "6 1                     0                      149900   "
      ]
     },
     "metadata": {},
     "output_type": "display_data"
    }
   ],
   "source": [
    "head(Htest_clean)"
   ]
  },
  {
   "cell_type": "code",
   "execution_count": 97,
   "metadata": {},
   "outputs": [],
   "source": [
    "# create a resampling method\n",
    "cv <- trainControl(\n",
    "  method = \"repeatedcv\", \n",
    "  number = 10, \n",
    "  repeats = 5\n",
    "  )\n",
    "\n",
    "# create a hyperparameter grid search\n",
    "hyper_grid <- expand.grid(k = seq(2, 25, by = 1))\n"
   ]
  },
  {
   "cell_type": "code",
   "execution_count": 100,
   "metadata": {},
   "outputs": [],
   "source": [
    "knn_fit2 <- train(SalePrice ~ .,\n",
    "  data = Htrain_clean, \n",
    "  method = \"knn\", \n",
    "  trControl = cv, \n",
    "  tuneGrid = hyper_grid,\n",
    "  na.action=na.exclude,\n",
    "  metric = \"RMSE\"\n",
    "  )"
   ]
  },
  {
   "cell_type": "code",
   "execution_count": 102,
   "metadata": {},
   "outputs": [
    {
     "data": {},
     "metadata": {},
     "output_type": "display_data"
    },
    {
     "data": {
      "image/png": "[encoded data removed]",
      "text/plain": [
       "plot without title"
      ]
     },
     "metadata": {},
     "output_type": "display_data"
    }
   ],
   "source": [
    "options(repr.plot.width=8, repr.plot.height=4)\n",
    "ggplot(knn_fit2)"
   ]
  },
  {
   "cell_type": "markdown",
   "metadata": {},
   "source": [
    "# Refresher de ayer...\n",
    "\n",
    "<h1><center>Regresión lineal</center></h1>\n",
    "\n",
    "Toda la teoría de esto ya la saben.... :P \n",
    "\n",
    "![vdd](https://i.ytimg.com/vi/manWsQ69cms/hqdefault.jpg)\n",
    "\n",
    "haremos tres modelos y compararémos, además de agregar algunas funciones no mencionadas ayer :)"
   ]
  },
  {
   "cell_type": "code",
   "execution_count": 105,
   "metadata": {},
   "outputs": [],
   "source": [
    "model1 <- lm(SalePrice ~ Gr.Liv.Area, data = Htrain_clean)\n",
    "model2 <- lm(SalePrice ~ Gr.Liv.Area + Year.Built, data = Htrain_clean)\n",
    "model3 <- lm(SalePrice ~ ., data = Htrain_clean) "
   ]
  },
  {
   "cell_type": "code",
   "execution_count": 131,
   "metadata": {},
   "outputs": [
    {
     "name": "stderr",
     "output_type": "stream",
     "text": [
      "Warning message in predict.lm(modelFit, newdata):\n",
      "\"prediction from a rank-deficient fit may be misleading\"Warning message in predict.lm(modelFit, newdata):\n",
      "\"prediction from a rank-deficient fit may be misleading\"Warning message in predict.lm(modelFit, newdata):\n",
      "\"prediction from a rank-deficient fit may be misleading\"Warning message in predict.lm(modelFit, newdata):\n",
      "\"prediction from a rank-deficient fit may be misleading\"Warning message in predict.lm(modelFit, newdata):\n",
      "\"prediction from a rank-deficient fit may be misleading\"Warning message in predict.lm(modelFit, newdata):\n",
      "\"prediction from a rank-deficient fit may be misleading\"Warning message in predict.lm(modelFit, newdata):\n",
      "\"prediction from a rank-deficient fit may be misleading\"Warning message in predict.lm(modelFit, newdata):\n",
      "\"prediction from a rank-deficient fit may be misleading\"Warning message in predict.lm(modelFit, newdata):\n",
      "\"prediction from a rank-deficient fit may be misleading\"Warning message in predict.lm(modelFit, newdata):\n",
      "\"prediction from a rank-deficient fit may be misleading\""
     ]
    },
    {
     "data": {
      "text/plain": [
       "\n",
       "Call:\n",
       "summary.resamples(object = resamples(list(model1 = cv_model1, model2\n",
       " = cv_model2, model3 = cv_model3)))\n",
       "\n",
       "Models: model1, model2, model3 \n",
       "Number of resamples: 10 \n",
       "\n",
       "MAE \n",
       "           Min.  1st Qu.   Median     Mean  3rd Qu.     Max. NA's\n",
       "model1 33802.43 37669.47 39190.56 38582.17 39344.38 41681.86    0\n",
       "model2 27774.00 31077.31 32282.27 31693.30 33115.76 33869.12    0\n",
       "model3 15764.83 16328.75 17229.39 17561.29 18747.83 19531.97    0\n",
       "\n",
       "RMSE \n",
       "           Min.  1st Qu.   Median     Mean  3rd Qu.     Max. NA's\n",
       "model1 44384.35 54264.87 55748.06 56035.32 57871.06 67301.49    0\n",
       "model2 36639.98 42684.31 46359.52 46394.81 49954.60 57893.89    0\n",
       "model3 21918.25 24300.42 24950.05 29422.84 31598.58 50799.52    0\n",
       "\n",
       "Rsquared \n",
       "            Min.   1st Qu.    Median      Mean   3rd Qu.      Max. NA's\n",
       "model1 0.3714322 0.4946891 0.5203762 0.5195885 0.5812635 0.5987003    0\n",
       "model2 0.5302812 0.6420152 0.6706676 0.6701103 0.7238419 0.7448654    0\n",
       "model3 0.6866625 0.8532648 0.8950746 0.8663842 0.9069836 0.9229145    0\n"
      ]
     },
     "metadata": {},
     "output_type": "display_data"
    }
   ],
   "source": [
    "set.seed(123)  # for reproducibility\n",
    "cv_model1 <- train(\n",
    "  form = SalePrice ~ Gr.Liv.Area, \n",
    "  data = Htrain_clean, \n",
    "  method = \"lm\",\n",
    "  na.action=na.exclude,\n",
    "  trControl = trainControl(method = \"cv\", number = 10)\n",
    ")\n",
    "\n",
    "set.seed(123)\n",
    "cv_model2 <- train(\n",
    "  SalePrice ~ Gr.Liv.Area + Year.Built, \n",
    "  data = Htrain_clean, \n",
    "  method = \"lm\",\n",
    "  na.action=na.exclude,\n",
    "  trControl = trainControl(method = \"cv\", number = 10)\n",
    ")\n",
    "\n",
    "# model 3 CV\n",
    "set.seed(123)\n",
    "cv_model3 <- train(\n",
    "  SalePrice ~ ., \n",
    "  data = Htrain_clean, \n",
    "  method = \"lm\",\n",
    "  na.action=na.exclude,\n",
    "  trControl = trainControl(method = \"cv\", number = 10)\n",
    ")\n",
    "\n",
    "# Extract out of sample performance measures\n",
    "summary(resamples(list(\n",
    "  model1 = cv_model1, \n",
    "  model2 = cv_model2, \n",
    "  model3 = cv_model3\n",
    ")))"
   ]
  },
  {
   "cell_type": "code",
   "execution_count": 128,
   "metadata": {},
   "outputs": [
    {
     "name": "stderr",
     "output_type": "stream",
     "text": [
      "Warning message in predict.lm(modelFit, newdata):\n",
      "\"prediction from a rank-deficient fit may be misleading\""
     ]
    }
   ],
   "source": [
    "Prediccion = predict(cv_model3,Htest_clean)[1]"
   ]
  },
  {
   "cell_type": "code",
   "execution_count": 129,
   "metadata": {},
   "outputs": [
    {
     "data": {
      "text/html": [
       "<strong>1:</strong> -16254.6210171541"
      ],
      "text/latex": [
       "\\textbf{1:} -16254.6210171541"
      ],
      "text/markdown": [
       "**1:** -16254.6210171541"
      ],
      "text/plain": [
       "        1 \n",
       "-16254.62 "
      ]
     },
     "metadata": {},
     "output_type": "display_data"
    }
   ],
   "source": [
    "Real = Htest_clean$SalePrice[1]\n",
    "\n",
    "ErrorTotal = Real - Prediccion\n",
    "ErrorTotal"
   ]
  },
  {
   "cell_type": "markdown",
   "metadata": {},
   "source": [
    "# Otros modelos de ML: Regresión Logística\n",
    "\n",
    "Este tema es una pequeña variación a la regresión lineal...\n",
    "\n",
    "Una de las principales aplicaciones de la regresión logística es la de clasificación binaria, en el que las observaciones se clasifican en un grupo u otro dependiendo del valor que tome la variable empleada como predictor.\n",
    "\n",
    "¿Por qué la regresión lineal no juega en este tema?\n",
    "\n",
    "Nuestra tarea es mapear $x_1,x_2,...x_n$ a $Y[0,1]$\n",
    "\n",
    "Si nosotros quisieramos ajustar el modelo:\n",
    "\n",
    "$$\n",
    "Y = \\beta_0 + \\beta1 X\n",
    "$$\n",
    "\n",
    "Obtendríamos valores fuera del rango $[0,1]$ dicho rango por cierto, represeta una probabilidad (razón de probabilidades, específicamente).\n",
    "\n",
    "\n",
    "![logit](https://bradleyboehmke.github.io/HOML/05-logistic-regression_files/figure-html/whylogit-1.png)\n",
    "\n",
    "\n",
    "Dada la situación, tenemos que hacer una transformación para que nos aseguremos que en efecto la salida no salga del rango permitido.\n",
    "\n",
    "Por lo que usaremos la transformación sigmoide:\n",
    "\n",
    "$$\n",
    "\\text{función sigmoide}  = \\dfrac{1}{1 + e^{-x}} \\tag{1}\n",
    "$$\n",
    "\n",
    "De tal manera que:\n",
    "\n",
    "$$\n",
    "P(Y=I|X = x)= \\frac{1}{1+e^{-(\\beta_0+\\beta_1X)}} = \\frac{e^{\\beta_0+\\beta_1X}}{1+e^{\\beta_0+\\beta_1X}}\n",
    "$$\n",
    "\n",
    "Donde $P(Y=I|X = x)$ se puede interpretar como la probabilidad de que la variable cualitativa Y adquiera el valor I (el nivel de referencia, codificado como 1), dado que el predictor X tiene el valor x.\n",
    "\n",
    "Y se puede extender tal como la regresión lineal simple a $x_1,x_2,....,x_n$\n",
    "\n",
    "\n",
    "Por lo que despejando para $\\beta_0+\\beta_1X$:\n",
    "\n",
    "$$\n",
    "ln(\\frac{p(Y=I|X = x)}{1-p(Y=I|X = x)})=\\beta_0+\\beta_1X\n",
    "$$\n",
    "\n",
    "Esa razón de probabilidades, se le conoce como **log ODDs**\n",
    "\n",
    "# Intuición detrás de ODDS RATIO\n",
    "\n",
    "Imagine el caso hipotético en el que sabe que un evento sucede $P(Y=1)$ con una probabilidad (p) de $0.6$ por lo tanto la probabilidad (q) de que dicho evento no suceda $P(Y=0)$  es de $0.4$, dicho esto el ratio de probabilidades (ODDS RATIO) es igual a:\n",
    "\n",
    "$$\n",
    "\\frac{p}{q} = 3\n",
    "$$\n",
    "\n",
    "Lo que equivale a decir que se espera 3 eventos $Y = 1$ por cada evento $Y = 0$\n",
    "\n",
    "En la regresión logística, $\\beta_1$ indica el cambio en el logaritmo de ODDs (Y) debido al incremento de una unidad de X, o lo que es lo mismo, multiplica los ODDs por $e^{\\beta_1}$\n",
    "\n",
    "# Predicción:\n",
    "\n",
    "$$\n",
    "\\hat{p}(Y=1|X)=\\frac{e^{\\hat{\\beta_0}+\\hat{\\beta_1}X}}{1+e^{\\hat{\\beta_0}+\\hat{\\beta_1}X}} \n",
    "$$"
   ]
  },
  {
   "cell_type": "code",
   "execution_count": 2,
   "metadata": {},
   "outputs": [],
   "source": [
    "diabetes <- read.csv(file.choose())"
   ]
  },
  {
   "cell_type": "code",
   "execution_count": 3,
   "metadata": {},
   "outputs": [
    {
     "data": {},
     "metadata": {},
     "output_type": "display_data"
    },
    {
     "data": {
      "image/png": "[encoded data removed]",
      "text/plain": [
       "plot without title"
      ]
     },
     "metadata": {},
     "output_type": "display_data"
    }
   ],
   "source": [
    "vis_miss(diabetes, cluster = TRUE )"
   ]
  },
  {
   "cell_type": "markdown",
   "metadata": {},
   "source": [
    "**Siempre es bueno dar un segundo vistazo cuando todo se ve demasiado bonito...**"
   ]
  },
  {
   "cell_type": "code",
   "execution_count": 4,
   "metadata": {},
   "outputs": [
    {
     "data": {
      "text/plain": [
       "  Pregnancies        Glucose      BloodPressure    SkinThickness  \n",
       " Min.   : 0.000   Min.   :  0.0   Min.   :  0.00   Min.   : 0.00  \n",
       " 1st Qu.: 1.000   1st Qu.: 99.0   1st Qu.: 62.00   1st Qu.: 0.00  \n",
       " Median : 3.000   Median :117.0   Median : 72.00   Median :23.00  \n",
       " Mean   : 3.845   Mean   :120.9   Mean   : 69.11   Mean   :20.54  \n",
       " 3rd Qu.: 6.000   3rd Qu.:140.2   3rd Qu.: 80.00   3rd Qu.:32.00  \n",
       " Max.   :17.000   Max.   :199.0   Max.   :122.00   Max.   :99.00  \n",
       "    Insulin           BMI        DiabetesPedigreeFunction      Age       \n",
       " Min.   :  0.0   Min.   : 0.00   Min.   :0.0780           Min.   :21.00  \n",
       " 1st Qu.:  0.0   1st Qu.:27.30   1st Qu.:0.2437           1st Qu.:24.00  \n",
       " Median : 30.5   Median :32.00   Median :0.3725           Median :29.00  \n",
       " Mean   : 79.8   Mean   :31.99   Mean   :0.4719           Mean   :33.24  \n",
       " 3rd Qu.:127.2   3rd Qu.:36.60   3rd Qu.:0.6262           3rd Qu.:41.00  \n",
       " Max.   :846.0   Max.   :67.10   Max.   :2.4200           Max.   :81.00  \n",
       "    Outcome     \n",
       " Min.   :0.000  \n",
       " 1st Qu.:0.000  \n",
       " Median :0.000  \n",
       " Mean   :0.349  \n",
       " 3rd Qu.:1.000  \n",
       " Max.   :1.000  "
      ]
     },
     "metadata": {},
     "output_type": "display_data"
    }
   ],
   "source": [
    "summary(diabetes)"
   ]
  },
  {
   "cell_type": "code",
   "execution_count": 3,
   "metadata": {},
   "outputs": [
    {
     "data": {
      "text/html": [
       "<ol class=list-inline>\n",
       "\t<li>768</li>\n",
       "\t<li>9</li>\n",
       "</ol>\n"
      ],
      "text/latex": [
       "\\begin{enumerate*}\n",
       "\\item 768\n",
       "\\item 9\n",
       "\\end{enumerate*}\n"
      ],
      "text/markdown": [
       "1. 768\n",
       "2. 9\n",
       "\n",
       "\n"
      ],
      "text/plain": [
       "[1] 768   9"
      ]
     },
     "metadata": {},
     "output_type": "display_data"
    }
   ],
   "source": [
    "dim(diabetes)"
   ]
  },
  {
   "cell_type": "code",
   "execution_count": 4,
   "metadata": {},
   "outputs": [],
   "source": [
    "diabetes_wo0s <- diabetes %>%\n",
    "    subset((Glucose!=0) & (BloodPressure!=0) & (BMI!=0))"
   ]
  },
  {
   "cell_type": "code",
   "execution_count": 5,
   "metadata": {},
   "outputs": [
    {
     "data": {
      "text/html": [
       "<ol class=list-inline>\n",
       "\t<li>724</li>\n",
       "\t<li>9</li>\n",
       "</ol>\n"
      ],
      "text/latex": [
       "\\begin{enumerate*}\n",
       "\\item 724\n",
       "\\item 9\n",
       "\\end{enumerate*}\n"
      ],
      "text/markdown": [
       "1. 724\n",
       "2. 9\n",
       "\n",
       "\n"
      ],
      "text/plain": [
       "[1] 724   9"
      ]
     },
     "metadata": {},
     "output_type": "display_data"
    }
   ],
   "source": [
    "dim(diabetes_wo0s)"
   ]
  },
  {
   "cell_type": "code",
   "execution_count": 6,
   "metadata": {},
   "outputs": [],
   "source": [
    "set.seed(123)\n",
    "index <- createDataPartition(diabetes_wo0s$Outcome, p = 0.7, list = FALSE)\n",
    "d_train <- as_tibble(diabetes_wo0s[index,])\n",
    "d_test <- as_tibble(diabetes_wo0s[-index,])"
   ]
  },
  {
   "cell_type": "code",
   "execution_count": 27,
   "metadata": {},
   "outputs": [
    {
     "data": {
      "text/plain": [
       "\n",
       "Call:\n",
       "glm(formula = Outcome ~ Glucose, family = \"binomial\", data = d_train)\n",
       "\n",
       "Deviance Residuals: \n",
       "    Min       1Q   Median       3Q      Max  \n",
       "-2.0609  -0.7725  -0.5056   0.7919   2.3128  \n",
       "\n",
       "Coefficients:\n",
       "             Estimate Std. Error z value Pr(>|z|)    \n",
       "(Intercept) -5.777786   0.538174 -10.736   <2e-16 ***\n",
       "Glucose      0.040701   0.004121   9.876   <2e-16 ***\n",
       "---\n",
       "Signif. codes:  0 '***' 0.001 '**' 0.01 '*' 0.05 '.' 0.1 ' ' 1\n",
       "\n",
       "(Dispersion parameter for binomial family taken to be 1)\n",
       "\n",
       "    Null deviance: 652.14  on 506  degrees of freedom\n",
       "Residual deviance: 517.30  on 505  degrees of freedom\n",
       "AIC: 521.3\n",
       "\n",
       "Number of Fisher Scoring iterations: 4\n"
      ]
     },
     "metadata": {},
     "output_type": "display_data"
    }
   ],
   "source": [
    "model <- glm(Outcome ~Glucose , family = \"binomial\", data = d_train)\n",
    "summary(model)"
   ]
  },
  {
   "cell_type": "code",
   "execution_count": 28,
   "metadata": {},
   "outputs": [
    {
     "data": {
      "text/plain": [
       "\n",
       "Call:\n",
       "glm(formula = Outcome ~ Pregnancies + Glucose + BMI + DiabetesPedigreeFunction, \n",
       "    family = \"binomial\", data = d_train)\n",
       "\n",
       "Deviance Residuals: \n",
       "    Min       1Q   Median       3Q      Max  \n",
       "-2.5627  -0.6991  -0.4085   0.6684   2.4595  \n",
       "\n",
       "Coefficients:\n",
       "                          Estimate Std. Error z value Pr(>|z|)    \n",
       "(Intercept)              -8.837437   0.845069 -10.458  < 2e-16 ***\n",
       "Pregnancies               0.172723   0.033854   5.102 3.36e-07 ***\n",
       "Glucose                   0.036582   0.004281   8.546  < 2e-16 ***\n",
       "BMI                       0.072786   0.018417   3.952 7.74e-05 ***\n",
       "DiabetesPedigreeFunction  0.946255   0.379293   2.495   0.0126 *  \n",
       "---\n",
       "Signif. codes:  0 '***' 0.001 '**' 0.01 '*' 0.05 '.' 0.1 ' ' 1\n",
       "\n",
       "(Dispersion parameter for binomial family taken to be 1)\n",
       "\n",
       "    Null deviance: 652.14  on 506  degrees of freedom\n",
       "Residual deviance: 465.83  on 502  degrees of freedom\n",
       "AIC: 475.83\n",
       "\n",
       "Number of Fisher Scoring iterations: 5\n"
      ]
     },
     "metadata": {},
     "output_type": "display_data"
    }
   ],
   "source": [
    "model2 <- glm(Outcome ~ Pregnancies + Glucose + BMI + DiabetesPedigreeFunction , family = \"binomial\", data = d_train)\n",
    "summary(model2)"
   ]
  },
  {
   "cell_type": "code",
   "execution_count": 29,
   "metadata": {},
   "outputs": [
    {
     "data": {
      "text/html": [
       "<dl class=dl-horizontal>\n",
       "\t<dt>(Intercept)</dt>\n",
       "\t\t<dd>0.00014519441556041</dd>\n",
       "\t<dt>Pregnancies</dt>\n",
       "\t\t<dd>1.18853667109184</dd>\n",
       "\t<dt>Glucose</dt>\n",
       "\t\t<dd>1.03725919380898</dd>\n",
       "\t<dt>BMI</dt>\n",
       "\t\t<dd>1.07550041419185</dd>\n",
       "\t<dt>DiabetesPedigreeFunction</dt>\n",
       "\t\t<dd>2.57604309484254</dd>\n",
       "</dl>\n"
      ],
      "text/latex": [
       "\\begin{description*}\n",
       "\\item[(Intercept)] 0.00014519441556041\n",
       "\\item[Pregnancies] 1.18853667109184\n",
       "\\item[Glucose] 1.03725919380898\n",
       "\\item[BMI] 1.07550041419185\n",
       "\\item[DiabetesPedigreeFunction] 2.57604309484254\n",
       "\\end{description*}\n"
      ],
      "text/markdown": [
       "(Intercept)\n",
       ":   0.00014519441556041Pregnancies\n",
       ":   1.18853667109184Glucose\n",
       ":   1.03725919380898BMI\n",
       ":   1.07550041419185DiabetesPedigreeFunction\n",
       ":   2.57604309484254\n",
       "\n"
      ],
      "text/plain": [
       "             (Intercept)              Pregnancies                  Glucose \n",
       "            0.0001451944             1.1885366711             1.0372591938 \n",
       "                     BMI DiabetesPedigreeFunction \n",
       "            1.0755004142             2.5760430948 "
      ]
     },
     "metadata": {},
     "output_type": "display_data"
    }
   ],
   "source": [
    "exp(coef(model2))"
   ]
  },
  {
   "cell_type": "code",
   "execution_count": 30,
   "metadata": {},
   "outputs": [
    {
     "name": "stderr",
     "output_type": "stream",
     "text": [
      "Waiting for profiling to be done...\n"
     ]
    },
    {
     "data": {
      "text/html": [
       "<table>\n",
       "<thead><tr><th></th><th scope=col>2.5 %</th><th scope=col>97.5 %</th></tr></thead>\n",
       "<tbody>\n",
       "\t<tr><th scope=row>(Intercept)</th><td>0.0000256764</td><td>0.0007098104</td></tr>\n",
       "\t<tr><th scope=row>Pregnancies</th><td>1.1132963364</td><td>1.2716683259</td></tr>\n",
       "\t<tr><th scope=row>Glucose</th><td>1.0288690399</td><td>1.0463178561</td></tr>\n",
       "\t<tr><th scope=row>BMI</th><td>1.0379795263</td><td>1.1158697377</td></tr>\n",
       "\t<tr><th scope=row>DiabetesPedigreeFunction</th><td>1.2355426351</td><td>5.4817350374</td></tr>\n",
       "</tbody>\n",
       "</table>\n"
      ],
      "text/latex": [
       "\\begin{tabular}{r|ll}\n",
       "  & 2.5 \\% & 97.5 \\%\\\\\n",
       "\\hline\n",
       "\t(Intercept) & 0.0000256764 & 0.0007098104\\\\\n",
       "\tPregnancies & 1.1132963364 & 1.2716683259\\\\\n",
       "\tGlucose & 1.0288690399 & 1.0463178561\\\\\n",
       "\tBMI & 1.0379795263 & 1.1158697377\\\\\n",
       "\tDiabetesPedigreeFunction & 1.2355426351 & 5.4817350374\\\\\n",
       "\\end{tabular}\n"
      ],
      "text/markdown": [
       "\n",
       "| <!--/--> | 2.5 % | 97.5 % | \n",
       "|---|---|---|---|---|\n",
       "| (Intercept) | 0.0000256764 | 0.0007098104 | \n",
       "| Pregnancies | 1.1132963364 | 1.2716683259 | \n",
       "| Glucose | 1.0288690399 | 1.0463178561 | \n",
       "| BMI | 1.0379795263 | 1.1158697377 | \n",
       "| DiabetesPedigreeFunction | 1.2355426351 | 5.4817350374 | \n",
       "\n",
       "\n"
      ],
      "text/plain": [
       "                         2.5 %        97.5 %      \n",
       "(Intercept)              0.0000256764 0.0007098104\n",
       "Pregnancies              1.1132963364 1.2716683259\n",
       "Glucose                  1.0288690399 1.0463178561\n",
       "BMI                      1.0379795263 1.1158697377\n",
       "DiabetesPedigreeFunction 1.2355426351 5.4817350374"
      ]
     },
     "metadata": {},
     "output_type": "display_data"
    }
   ],
   "source": [
    "exp(confint(model2))"
   ]
  },
  {
   "cell_type": "code",
   "execution_count": 31,
   "metadata": {},
   "outputs": [
    {
     "data": {
      "text/html": [
       "<table>\n",
       "<thead><tr><th></th><th scope=col>Min.</th><th scope=col>1st Qu.</th><th scope=col>Median</th><th scope=col>Mean</th><th scope=col>3rd Qu.</th><th scope=col>Max.</th><th scope=col>NA's</th></tr></thead>\n",
       "<tbody>\n",
       "\t<tr><th scope=row>model1</th><td>0.6666667</td><td>0.7186538</td><td>0.7647059</td><td>0.7596078</td><td>0.7863462</td><td>0.86     </td><td>0        </td></tr>\n",
       "\t<tr><th scope=row>model2</th><td>0.7058824</td><td>0.7611765</td><td>0.7800000</td><td>0.7772624</td><td>0.8028846</td><td>0.86     </td><td>0        </td></tr>\n",
       "</tbody>\n",
       "</table>\n"
      ],
      "text/latex": [
       "\\begin{tabular}{r|lllllll}\n",
       "  & Min. & 1st Qu. & Median & Mean & 3rd Qu. & Max. & NA's\\\\\n",
       "\\hline\n",
       "\tmodel1 & 0.6666667 & 0.7186538 & 0.7647059 & 0.7596078 & 0.7863462 & 0.86      & 0        \\\\\n",
       "\tmodel2 & 0.7058824 & 0.7611765 & 0.7800000 & 0.7772624 & 0.8028846 & 0.86      & 0        \\\\\n",
       "\\end{tabular}\n"
      ],
      "text/markdown": [
       "\n",
       "| <!--/--> | Min. | 1st Qu. | Median | Mean | 3rd Qu. | Max. | NA's | \n",
       "|---|---|\n",
       "| model1 | 0.6666667 | 0.7186538 | 0.7647059 | 0.7596078 | 0.7863462 | 0.86      | 0         | \n",
       "| model2 | 0.7058824 | 0.7611765 | 0.7800000 | 0.7772624 | 0.8028846 | 0.86      | 0         | \n",
       "\n",
       "\n"
      ],
      "text/plain": [
       "       Min.      1st Qu.   Median    Mean      3rd Qu.   Max. NA's\n",
       "model1 0.6666667 0.7186538 0.7647059 0.7596078 0.7863462 0.86 0   \n",
       "model2 0.7058824 0.7611765 0.7800000 0.7772624 0.8028846 0.86 0   "
      ]
     },
     "metadata": {},
     "output_type": "display_data"
    }
   ],
   "source": [
    "d_train$Outcome <- as.factor(d_train$Outcome)\n",
    "d_test$Outcome <- as.factor(d_test$Outcome)\n",
    "set.seed(123)\n",
    "cv_model1 <- train(\n",
    "  Outcome ~ Glucose, \n",
    "  data = d_train, \n",
    "  method = \"glm\",\n",
    "  family = \"binomial\",\n",
    "  trControl = trainControl(method = \"cv\", number = 10)\n",
    ")\n",
    "\n",
    "set.seed(123)\n",
    "cv_model2 <- train(\n",
    "  Outcome ~ Pregnancies + Glucose + BMI + DiabetesPedigreeFunction, \n",
    "  data = d_train, \n",
    "  method = \"glm\",\n",
    "  family = \"binomial\",\n",
    "  trControl = trainControl(method = \"cv\", number = 10)\n",
    ")\n",
    "\n",
    "summary(\n",
    "  resamples(\n",
    "    list(\n",
    "      model1 = cv_model1, \n",
    "      model2 = cv_model2\n",
    "    )\n",
    "  )\n",
    ")$statistics$Accuracy\n"
   ]
  },
  {
   "cell_type": "code",
   "execution_count": 49,
   "metadata": {},
   "outputs": [
    {
     "data": {
      "image/png": "[encoded data removed]",
      "text/plain": [
       "plot without title"
      ]
     },
     "metadata": {},
     "output_type": "display_data"
    }
   ],
   "source": [
    "m1_prob <- predict(cv_model1, d_train, type = \"prob\")[2]\n",
    "m2_prob <- predict(cv_model2, d_train, type = \"prob\")[2]\n",
    "\n",
    "\n",
    "perf1 <- prediction(m1_prob, d_train$Outcome) %>%\n",
    "  performance(measure = \"tpr\", x.measure = \"fpr\")\n",
    "perf2 <- prediction(m2_prob, d_train$Outcome) %>%\n",
    "  performance(measure = \"tpr\", x.measure = \"fpr\")\n",
    "\n",
    "# Plot ROC curves for cv_model1 and cv_model3\n",
    "plot(perf1, col = \"black\", lty = 2)\n",
    "plot(perf2, add = TRUE, col = \"blue\")\n",
    "legend(0.8, 0.2, legend = c(\"cv_model1\", \"cv_model2\"),\n",
    "       col = c(\"black\", \"blue\"), lty = 2:1, cex = 0.6)"
   ]
  },
  {
   "cell_type": "markdown",
   "metadata": {},
   "source": [
    "Alguien me ayuda a explicar ésta gráfica? \n",
    "\n",
    "TODO: 5 min buscando que es una curva ROC"
   ]
  },
  {
   "cell_type": "code",
   "execution_count": 50,
   "metadata": {},
   "outputs": [
    {
     "data": {
      "text/plain": [
       "Confusion Matrix and Statistics\n",
       "\n",
       "          Reference\n",
       "Prediction   1   0\n",
       "         1 100  34\n",
       "         0  74 299\n",
       "                                          \n",
       "               Accuracy : 0.787           \n",
       "                 95% CI : (0.7487, 0.8218)\n",
       "    No Information Rate : 0.6568          \n",
       "    P-Value [Acc > NIR] : 9.612e-11       \n",
       "                                          \n",
       "                  Kappa : 0.5001          \n",
       " Mcnemar's Test P-Value : 0.0001749       \n",
       "                                          \n",
       "            Sensitivity : 0.5747          \n",
       "            Specificity : 0.8979          \n",
       "         Pos Pred Value : 0.7463          \n",
       "         Neg Pred Value : 0.8016          \n",
       "             Prevalence : 0.3432          \n",
       "         Detection Rate : 0.1972          \n",
       "   Detection Prevalence : 0.2643          \n",
       "      Balanced Accuracy : 0.7363          \n",
       "                                          \n",
       "       'Positive' Class : 1               \n",
       "                                          "
      ]
     },
     "metadata": {},
     "output_type": "display_data"
    }
   ],
   "source": [
    "pred_class <- predict(cv_model2, d_train)\n",
    "\n",
    "# create confusion matrix\n",
    "confusionMatrix(\n",
    "  data = relevel(pred_class, ref = \"1\"), \n",
    "  reference = relevel(d_train$Outcome, ref = \"1\")\n",
    ")"
   ]
  },
  {
   "cell_type": "code",
   "execution_count": 52,
   "metadata": {},
   "outputs": [
    {
     "data": {
      "text/plain": [
       "Confusion Matrix and Statistics\n",
       "\n",
       "          Reference\n",
       "Prediction   1   0\n",
       "         1  40  21\n",
       "         0  35 121\n",
       "                                          \n",
       "               Accuracy : 0.7419          \n",
       "                 95% CI : (0.6783, 0.7988)\n",
       "    No Information Rate : 0.6544          \n",
       "    P-Value [Acc > NIR] : 0.003529        \n",
       "                                          \n",
       "                  Kappa : 0.4032          \n",
       " Mcnemar's Test P-Value : 0.082352        \n",
       "                                          \n",
       "            Sensitivity : 0.5333          \n",
       "            Specificity : 0.8521          \n",
       "         Pos Pred Value : 0.6557          \n",
       "         Neg Pred Value : 0.7756          \n",
       "             Prevalence : 0.3456          \n",
       "         Detection Rate : 0.1843          \n",
       "   Detection Prevalence : 0.2811          \n",
       "      Balanced Accuracy : 0.6927          \n",
       "                                          \n",
       "       'Positive' Class : 1               \n",
       "                                          "
      ]
     },
     "metadata": {},
     "output_type": "display_data"
    }
   ],
   "source": [
    "pred_class_test <- predict(cv_model2, d_test)\n",
    "\n",
    "# create confusion matrix\n",
    "confusionMatrix(\n",
    "  data = relevel(pred_class_test, ref = \"1\"), \n",
    "  reference = relevel(d_test$Outcome, ref = \"1\")\n",
    ")"
   ]
  },
  {
   "cell_type": "markdown",
   "metadata": {},
   "source": [
    "<h1><center>¿Por qué Miguel está tan obsesionado con los modelos lineales?</center></h1>\n",
    "\n",
    "La realidad es que muchísimos modelos que usamos actualmente, son derivaciones de modelos lineales, usan en algún punto modelos lineales, y cómo lo vieron en la clase de estadística, también mucho de esa disciplina está fundada en ellos.\n",
    "\n",
    "Las famosas **redes neuronales** NO son la excepción\n",
    "\n",
    "Básicamente difieren en dos cosas:\n",
    "\n",
    "* Diferente de una regresión lineal donde múltiples variables de entrada explicarán un resultado. En una red neuronal, se probarán múltiples variables de entrada y se combinarán varias veces para explicar uno o más resultados.\n",
    "\n",
    "* Las redes neuronales aprenderán descubriendo que se equivocaron y luego trabajando hacia atrás en el algoritmo para descubrir qué valores y conexiones hicieron que la salida fuera incorrecta\n",
    "\n",
    "![ANN](https://miro.medium.com/max/700/1*XPThP6QC5VkeG3VzI0FhIQ.png)\n",
    "\n",
    "---\n",
    "---\n",
    "---\n",
    "\n",
    "Reducimos el error optimizando la función de costo:\n",
    "\n",
    "![costo](https://ml-cheatsheet.readthedocs.io/en/latest/_images/gradient_descent_demystified.png)"
   ]
  },
  {
   "cell_type": "code",
   "execution_count": 7,
   "metadata": {},
   "outputs": [],
   "source": [
    "library(keras)"
   ]
  },
  {
   "cell_type": "code",
   "execution_count": 8,
   "metadata": {},
   "outputs": [],
   "source": [
    "X_train <- d_train %>% \n",
    "  select(-Outcome) %>%\n",
    "  scale() \n",
    "\n",
    "Y_train <- to_categorical(d_train$Outcome)"
   ]
  },
  {
   "cell_type": "code",
   "execution_count": 9,
   "metadata": {},
   "outputs": [],
   "source": [
    "X_train <- d_test %>% \n",
    "  select(-Outcome) %>%\n",
    "  scale()\n",
    "\n",
    "Y_test <- to_categorical(d_test$Outcome)"
   ]
  },
  {
   "cell_type": "code",
   "execution_count": 10,
   "metadata": {},
   "outputs": [
    {
     "name": "stdout",
     "output_type": "stream",
     "text": [
      "________________________________________________________________________________\n",
      "Layer (type)                        Output Shape                    Param #     \n",
      "================================================================================\n",
      "dense (Dense)                       (None, 8)                       72          \n",
      "________________________________________________________________________________\n",
      "dropout (Dropout)                   (None, 8)                       0           \n",
      "________________________________________________________________________________\n",
      "dense_1 (Dense)                     (None, 8)                       72          \n",
      "________________________________________________________________________________\n",
      "dropout_1 (Dropout)                 (None, 8)                       0           \n",
      "________________________________________________________________________________\n",
      "dense_2 (Dense)                     (None, 2)                       18          \n",
      "================================================================================\n",
      "Total params: 162\n",
      "Trainable params: 162\n",
      "Non-trainable params: 0\n",
      "________________________________________________________________________________\n"
     ]
    }
   ],
   "source": [
    "model <- keras_model_sequential() \n",
    "\n",
    "model %>% \n",
    "  layer_dense(units = 8, activation = 'relu', input_shape = ncol(X_train)) %>% \n",
    "  layer_dropout(rate = 0.4) %>% \n",
    "  layer_dense(units = 8, activation = 'relu') %>%\n",
    "  layer_dropout(rate = 0.3) %>%\n",
    "  layer_dense(units = 2, activation = 'sigmoid')\n",
    "\n",
    "model <- model %>% compile(\n",
    "  loss = 'binary_crossentropy',\n",
    "  optimizer = 'adam',\n",
    "  metrics = c('accuracy')\n",
    ")\n",
    "\n",
    "\n",
    "model %>% summary()"
   ]
  },
  {
   "cell_type": "code",
   "execution_count": null,
   "metadata": {},
   "outputs": [],
   "source": [
    "epochs <- 100\n",
    "\n",
    "# Fit the model and store training stats\n",
    "history <- model %>% keras::fit(\n",
    "  X_train, Y_train, \n",
    "  epochs = epochs,\n",
    "  validation_split = 0.2,\n",
    ")\n",
    "\n",
    "plot(history, metrics = \"loss\", smooth = FALSE) +\n",
    "  coord_cartesian(xlim = c(0, 150), ylim = c(0, 5))\n",
    "\n",
    "# HACER EL FIT DEL MODELO MATA EL KERNEL :("
   ]
  },
  {
   "cell_type": "markdown",
   "metadata": {},
   "source": [
    "# TODO: FINAL PROJECT\n",
    "\n",
    "Trabajarán con un dataset real de casos de tuberculosis por la organización mundial de la salud, y haremos un proyecto end-to-end de ML.\n",
    "\n",
    "El dataset es un reto, así que van algunos hints:\n",
    "\n",
    "* La primer pregunta para poder explotar **R** es si el dataset es tidy.\n",
    "* Si existen redundancias identifíquelas\n",
    "* ¿Existen nombres de variables que contienen información?\n",
    "* **HINT 1:** utilize la función ``gather()`` entre las variables new_sp_m014:newrel_f65, utilize key = \"key\" y value = \"cases\" ( vaya a la documentación para ver como se utiliza la función en caso de tener dudas)\n",
    "* **HINT 2:** la variable **key** que se generó por el HINT 1, debería tener una estructura como: *new_ep_f014**:\n",
    " * Las tres primeras letras indican si el caso es nuevo o viejo\n",
    " * Las siguientes dos indican:\n",
    "  * rel: recaída\n",
    "  * ep: TB extrapulmonar\n",
    "  * sn: TB frotis negativo\n",
    "  * sp: TB frotis positivo\n",
    " * La siguiente letra m/f codifica el genero\n",
    " * Los números codifican los bins de edad:\n",
    "  * 014: 0 - 14 años\n",
    "  * 1524: 15 - 24 años\n",
    "  * .....\n",
    "* **HINT 3:** identifique la inconsistencia en las etiquetas, utilize ``stringr::str_replace(key,...,...)`` para hacer consistente todo el codificado, se deberá utilizar en conjunto con `mutate(key = )` para hacer asignación *inplace*\n",
    "* **HINT 4:** utilize `separate()` para generar tres nuevas columnas : new , type, sexage vea cual es el separador a utilzar...\n",
    "* **HINT 5:** utilize `tidyr:select(c(-,-,-))` para eliminar las columnas que no aportan información\n",
    "* **HINT 5:** vuelva a utilizar `separate()` para generar dos columnas: sex, age vea cual es el separador a utilizar\n",
    "* **HINT 6:** vea si todas las variables son del tipo que deberían ser, `str()` puede ser util\n",
    "\n",
    "Una vez hecho esto, (para la siguiente sección funciones como `subset()`, `group_by()`, `summarize()`, `sum()`, `n()`, entre otras... pueden ser utiles)\n",
    "\n",
    "* gráfique la serie de tiempo de los casos de tuberculosis para México\n",
    "* ¿existen diferencias significativas entre los casos de cada tipo de tuberculosis en México?\n",
    "* gráfique la serie de tiempo de los casos de tuberculosis para México vs EUA\n",
    "* cuente los casos por bin de años de individuo, grafíque en barras los mismos, cual es el bin con más casos en México\n",
    "* cuente los casos por año en México, ¿cual es el año con más casos?\n",
    "* genere un modelo de regresión lineal y  con variable independientes sex, age para estimar cases\n"
   ]
  },
  {
   "cell_type": "code",
   "execution_count": 9,
   "metadata": {},
   "outputs": [],
   "source": [
    "who <- tidyr::who"
   ]
  },
  {
   "cell_type": "code",
   "execution_count": null,
   "metadata": {},
   "outputs": [],
   "source": []
  }
 ],
 "metadata": {
  "kernelspec": {
   "display_name": "R",
   "language": "R",
   "name": "ir"
  },
  "language_info": {
   "codemirror_mode": "r",
   "file_extension": ".r",
   "mimetype": "text/x-r-source",
   "name": "R",
   "pygments_lexer": "r",
   "version": "3.4.3"
  }
 },
 "nbformat": 4,
 "nbformat_minor": 2
}
